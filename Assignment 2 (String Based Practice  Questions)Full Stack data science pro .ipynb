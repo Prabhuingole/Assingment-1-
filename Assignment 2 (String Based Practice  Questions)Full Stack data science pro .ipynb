{
 "cells": [
  {
   "cell_type": "code",
   "execution_count": 2,
   "id": "80a83498",
   "metadata": {},
   "outputs": [
    {
     "name": "stdout",
     "output_type": "stream",
     "text": [
      "45667,\n"
     ]
    },
    {
     "data": {
      "text/plain": [
       "',76654'"
      ]
     },
     "execution_count": 2,
     "metadata": {},
     "output_type": "execute_result"
    }
   ],
   "source": [
    "#1. Write a program to reverse a string.\n",
    "\n",
    "string = input()\n",
    "\n",
    "reversed_string = string[::-1]\n",
    "reversed_string"
   ]
  },
  {
   "cell_type": "code",
   "execution_count": 3,
   "id": "47ec8924",
   "metadata": {},
   "outputs": [
    {
     "name": "stdout",
     "output_type": "stream",
     "text": [
      "malayalam\n",
      "YES string is palindrome\n"
     ]
    }
   ],
   "source": [
    "#2. Check if a string is a palindrome.\n",
    "string = input()\n",
    "\n",
    "original_string = string[::-1]\n",
    "original_string\n",
    "\n",
    "if string == original_string:\n",
    "    print(\"YES string is palindrome\")\n",
    "    \n",
    "else :\n",
    "    print(\"No it is not palindrome\")"
   ]
  },
  {
   "cell_type": "code",
   "execution_count": 4,
   "id": "c96b70da",
   "metadata": {},
   "outputs": [
    {
     "name": "stdout",
     "output_type": "stream",
     "text": [
      "tjjteetje\n"
     ]
    },
    {
     "data": {
      "text/plain": [
       "'TJJTEETJE'"
      ]
     },
     "execution_count": 4,
     "metadata": {},
     "output_type": "execute_result"
    }
   ],
   "source": [
    "#3. Convert a string to uppercase.\n",
    "\n",
    "string = input()\n",
    "\n",
    "modifed_string = string.upper()\n",
    "\n",
    "modifed_string "
   ]
  },
  {
   "cell_type": "code",
   "execution_count": 5,
   "id": "bc575dfd",
   "metadata": {},
   "outputs": [
    {
     "name": "stdout",
     "output_type": "stream",
     "text": [
      "FYKDDJ\n"
     ]
    },
    {
     "data": {
      "text/plain": [
       "'fykddj'"
      ]
     },
     "execution_count": 5,
     "metadata": {},
     "output_type": "execute_result"
    }
   ],
   "source": [
    "#4. Convert a string to lowercase.\n",
    "string = input()\n",
    "\n",
    "modifed_string = string.lower()\n",
    "\n",
    "modifed_string "
   ]
  },
  {
   "cell_type": "code",
   "execution_count": 6,
   "id": "ee176bb3",
   "metadata": {},
   "outputs": [
    {
     "name": "stdout",
     "output_type": "stream",
     "text": [
      "HRHHRSTJHEYNE EYESYER\n",
      "5\n"
     ]
    }
   ],
   "source": [
    "#5. Count the number of vowels in a string.\n",
    "\n",
    "string = input()\n",
    "vowels = 0\n",
    "for i in string:\n",
    "    if(i=='a' or i=='e' or i=='i' or i=='o' or i=='u' or i=='A' or i=='E' or i=='I' or i=='O' or i=='U'):\n",
    "        vowels = vowels + 1\n",
    "print(vowels)"
   ]
  },
  {
   "cell_type": "code",
   "execution_count": 7,
   "id": "e4c7b61a",
   "metadata": {},
   "outputs": [
    {
     "name": "stdout",
     "output_type": "stream",
     "text": [
      "THNDGRNERGHERJRSJ\n",
      "0\n"
     ]
    }
   ],
   "source": [
    "#6. Count the number of consonants in a string.\n",
    "string = input()\n",
    "\n",
    "consonants = 0\n",
    "for i in string:  \n",
    "    if(i=='b' or i=='c' or i== 'd' or i=='f' or i=='j' or i=='h' or i=='g' or i=='k' or i=='l' or i=='m' or i=='n'or i=='p' or i=='q' or i=='r' or i=='s' or i=='t' or i=='v' or i=='w' or i=='x' or i=='y' or i=='z'):\n",
    "        consonants = consonants + 1\n",
    "print(consonants)    \n"
   ]
  },
  {
   "cell_type": "code",
   "execution_count": 8,
   "id": "c743b9c1",
   "metadata": {},
   "outputs": [
    {
     "name": "stdout",
     "output_type": "stream",
     "text": [
      "helloapple\n"
     ]
    }
   ],
   "source": [
    "#7. Remove all whitespaces from a string.\n",
    "sentence = \"  hello  apple  \"\n",
    "sentence = \"\".join(sentence.split())\n",
    "print(sentence)  # Output: \"hello apple\"\n"
   ]
  },
  {
   "cell_type": "code",
   "execution_count": 9,
   "id": "8cbe15dd",
   "metadata": {},
   "outputs": [
    {
     "name": "stdout",
     "output_type": "stream",
     "text": [
      "14\n"
     ]
    }
   ],
   "source": [
    "#8. Find the length of a string without using the `len()` function.\n",
    "string = \"Hello pwskills\"\n",
    "lenth = 0\n",
    "for i in string :\n",
    "    lenth +=1\n",
    "print(lenth)    \n",
    "    "
   ]
  },
  {
   "cell_type": "code",
   "execution_count": 10,
   "id": "aeac5b54",
   "metadata": {},
   "outputs": [
    {
     "name": "stdout",
     "output_type": "stream",
     "text": [
      "Contains the word\n"
     ]
    }
   ],
   "source": [
    "#9. Check if a string contains a specific word.\n",
    "string = \"welcome to my world\"\n",
    "word = \"world\"\n",
    "if word in string:\n",
    "    print(\"Contains the word\")\n",
    "else:\n",
    "    print(\"Does not contain the word\")\n"
   ]
  },
  {
   "cell_type": "code",
   "execution_count": 11,
   "id": "efdf2424",
   "metadata": {},
   "outputs": [
    {
     "name": "stdout",
     "output_type": "stream",
     "text": [
      "three three was a race horse, two two was one too.\n"
     ]
    }
   ],
   "source": [
    "#Replace a word in a string with another word\n",
    "\n",
    "\n",
    "text = \"one one was a race horse, two two was one too.\"\n",
    "\n",
    "\n",
    "new_text = text.replace(\"one\", \"three\", 2)\n",
    "\n",
    "print(new_text) \n"
   ]
  },
  {
   "cell_type": "code",
   "execution_count": 12,
   "id": "7f626236",
   "metadata": {},
   "outputs": [
    {
     "name": "stdout",
     "output_type": "stream",
     "text": [
      "2\n"
     ]
    }
   ],
   "source": [
    "#Count the occurrences of a word in a string.\n",
    "\n",
    "text = \"Foundation of data science syllabus introduces you with the fundamental principles and Foundation\"\n",
    "word = \"Foundation\"\n",
    "count = text.count(word)\n",
    "print(count)\n"
   ]
  },
  {
   "cell_type": "code",
   "execution_count": 13,
   "id": "b7b97a5a",
   "metadata": {},
   "outputs": [
    {
     "name": "stdout",
     "output_type": "stream",
     "text": [
      "0\n"
     ]
    }
   ],
   "source": [
    "#Find the first occurrence of a word in a string.\n",
    "\n",
    "text = \"Foundation of data science syllabus introduces you with the fundamental principles and Foundation\"\n",
    "word = \"Foundation\"\n",
    "count = text.index(word)\n",
    "print(count)"
   ]
  },
  {
   "cell_type": "code",
   "execution_count": 14,
   "id": "c50c6bc3",
   "metadata": {},
   "outputs": [
    {
     "name": "stdout",
     "output_type": "stream",
     "text": [
      "87\n"
     ]
    }
   ],
   "source": [
    "#Find the last occurrence of a word in a string.\n",
    "\n",
    "text = \"Foundation of data science syllabus introduces you with the fundamental principles and Foundation\"\n",
    "word = \"Foundation\"\n",
    "count = text.rindex(word)\n",
    "print(count)"
   ]
  },
  {
   "cell_type": "code",
   "execution_count": 15,
   "id": "b8fb613d",
   "metadata": {},
   "outputs": [
    {
     "name": "stdout",
     "output_type": "stream",
     "text": [
      "['Prabhu', 'ingole']\n"
     ]
    }
   ],
   "source": [
    "#Split a string into a list of words.\n",
    "\n",
    "text = \"Prabhu ingole\"\n",
    "words = text.split()\n",
    "print(words)\n"
   ]
  },
  {
   "cell_type": "code",
   "execution_count": 16,
   "id": "4d88bf22",
   "metadata": {},
   "outputs": [
    {
     "name": "stdout",
     "output_type": "stream",
     "text": [
      "Prabhu ingole\n"
     ]
    }
   ],
   "source": [
    "#Join a list of words into a string.\n",
    "text = [\"Prabhu\", \"ingole\"]\n",
    "words = \" \".join(text)\n",
    "print(words)\n"
   ]
  },
  {
   "cell_type": "code",
   "execution_count": 17,
   "id": "e293be87",
   "metadata": {},
   "outputs": [
    {
     "name": "stdout",
     "output_type": "stream",
     "text": [
      "convert_this_string\n"
     ]
    }
   ],
   "source": [
    "#Convert a string where words are separated by spaces to one where words\n",
    "#are separated by underscores.\n",
    "\n",
    "def convert_spaces_to_underscores(input_string):\n",
    "    return input_string.replace(\" \", \"_\")\n",
    "\n",
    "# Example usage\n",
    "input_string = \"convert this string\"\n",
    "output_string = convert_spaces_to_underscores(input_string)\n",
    "print(output_string)"
   ]
  },
  {
   "cell_type": "code",
   "execution_count": 18,
   "id": "23917038",
   "metadata": {},
   "outputs": [
    {
     "name": "stdout",
     "output_type": "stream",
     "text": [
      "True\n"
     ]
    }
   ],
   "source": [
    "#Check if a string starts with a specific word or phrase.\n",
    "def starts_with(input_string, prefix):\n",
    "    return input_string.startswith(prefix)\n",
    "\n",
    "# Example usage\n",
    "input_string = \"Hello, world!\"\n",
    "prefix = \"Hello\"\n",
    "result = starts_with(input_string, prefix)\n",
    "print(result)  # Output: True\n"
   ]
  },
  {
   "cell_type": "code",
   "execution_count": 19,
   "id": "29b3f625",
   "metadata": {},
   "outputs": [
    {
     "name": "stdout",
     "output_type": "stream",
     "text": [
      "True\n"
     ]
    }
   ],
   "source": [
    "#Check if a string ends with a specific word or phrase.\n",
    "def ends_with(input_string, suffix):\n",
    "    return input_string.endswith(suffix)\n",
    "\n",
    "# Example usage\n",
    "input_string = \"Hello, world!\"\n",
    "suffix = \"world!\"\n",
    "result = ends_with(input_string, suffix)\n",
    "print(result)  # Output: True\n"
   ]
  },
  {
   "cell_type": "code",
   "execution_count": 20,
   "id": "6b66b16a",
   "metadata": {},
   "outputs": [
    {
     "name": "stdout",
     "output_type": "stream",
     "text": [
      "Convert This String To Title Case\n"
     ]
    }
   ],
   "source": [
    "#Convert a string to title case\n",
    "def to_title_case(input_string):\n",
    "    return input_string.title()\n",
    "\n",
    "# Example usage\n",
    "input_string = \"convert this string to title case\"\n",
    "output_string = to_title_case(input_string)\n",
    "print(output_string)  # Output: Convert This String To Title Case\n"
   ]
  },
  {
   "cell_type": "code",
   "execution_count": 21,
   "id": "aaec080d",
   "metadata": {},
   "outputs": [
    {
     "name": "stdout",
     "output_type": "stream",
     "text": [
      "longest\n"
     ]
    }
   ],
   "source": [
    "#Find the longest word in a string.\n",
    "def find_longest_word(input_string):\n",
    "    words = input_string.split()\n",
    "    longest_word = max(words, key=len)\n",
    "    return longest_word\n",
    "\n",
    "# Example usage\n",
    "input_string = \"Find the longest word in this string\"\n",
    "longest_word = find_longest_word(input_string)\n",
    "print(longest_word)  # Output: longest\n"
   ]
  },
  {
   "cell_type": "code",
   "execution_count": 22,
   "id": "9d223cf0",
   "metadata": {},
   "outputs": [
    {
     "name": "stdout",
     "output_type": "stream",
     "text": [
      "in\n"
     ]
    }
   ],
   "source": [
    "#Find the short word in a string.\n",
    "def find_longest_word(input_string):\n",
    "    words = input_string.split()\n",
    "    longest_word = min(words, key=len)\n",
    "    return longest_word\n",
    "\n",
    "# Example usage\n",
    "input_string = \"Find the longest word in this string\"\n",
    "longest_word = find_longest_word(input_string)\n",
    "print(longest_word)  # Output: longest"
   ]
  },
  {
   "cell_type": "code",
   "execution_count": 23,
   "id": "eb79449f",
   "metadata": {},
   "outputs": [
    {
     "name": "stdout",
     "output_type": "stream",
     "text": [
      "string this in words of order the Reverse\n"
     ]
    }
   ],
   "source": [
    "#Reverse the order of words in a string.\n",
    "def reverse_words(input_string):\n",
    "    words = input_string.split()\n",
    "    reversed_words = words[::-1]\n",
    "    return ' '.join(reversed_words)\n",
    "\n",
    "# Example usage\n",
    "input_string = \"Reverse the order of words in this string\"\n",
    "reversed_string = reverse_words(input_string)\n",
    "print(reversed_string)  # Output: string this in words of order the Reverse\n"
   ]
  },
  {
   "cell_type": "code",
   "execution_count": 24,
   "id": "4bbcfc98",
   "metadata": {},
   "outputs": [
    {
     "name": "stdout",
     "output_type": "stream",
     "text": [
      "True\n",
      "False\n"
     ]
    }
   ],
   "source": [
    "#Check if a string is alphanumeric. \n",
    "def is_alphanumeric(input_string):\n",
    "    return input_string.isalnum()\n",
    "\n",
    "\n",
    "input_string = \"Hello123\"\n",
    "result = is_alphanumeric(input_string)\n",
    "print(result)  # Output: True\n",
    "\n",
    "input_string = \"Hello 123\"\n",
    "result = is_alphanumeric(input_string)\n",
    "print(result)  # Output: False\n",
    "          "
   ]
  },
  {
   "cell_type": "code",
   "execution_count": 25,
   "id": "e8669672",
   "metadata": {},
   "outputs": [
    {
     "name": "stdout",
     "output_type": "stream",
     "text": [
      "123456\n"
     ]
    }
   ],
   "source": [
    "#Extract all digits from a string.\n",
    "def extract_digits(input_string):\n",
    "    return ''.join([char for char in input_string if char.isdigit()])\n",
    "\n",
    "# Example usage\n",
    "input_string = \"abc123def456\"\n",
    "digits = extract_digits(input_string)\n",
    "print(digits)  # Output: 123456\n"
   ]
  },
  {
   "cell_type": "code",
   "execution_count": 26,
   "id": "99ad14a8",
   "metadata": {},
   "outputs": [
    {
     "name": "stdout",
     "output_type": "stream",
     "text": [
      "abcdef\n"
     ]
    }
   ],
   "source": [
    "#Extract all alphabets from a string.\n",
    "def extract_alphabets(input_string):\n",
    "    return ''.join([char for char in input_string if char.isalpha()])\n",
    "\n",
    "# Example usage\n",
    "input_string = \"abc123def456\"\n",
    "alphabets = extract_alphabets(input_string)\n",
    "print(alphabets)"
   ]
  },
  {
   "cell_type": "code",
   "execution_count": 27,
   "id": "77854709",
   "metadata": {},
   "outputs": [
    {
     "name": "stdout",
     "output_type": "stream",
     "text": [
      "2\n"
     ]
    }
   ],
   "source": [
    "#Count the number of uppercase letters in a string.\n",
    "def count_uppercase(input_string):\n",
    "    return len([char for char in input_string if char.isupper()])\n",
    "\n",
    "# Example usage\n",
    "input_string = \"Hello World!\"\n",
    "uppercase_count = count_uppercase(input_string)\n",
    "print(uppercase_count)  # Output: 2\n"
   ]
  },
  {
   "cell_type": "code",
   "execution_count": 28,
   "id": "32226b45",
   "metadata": {},
   "outputs": [
    {
     "name": "stdout",
     "output_type": "stream",
     "text": [
      "8\n"
     ]
    }
   ],
   "source": [
    "#Count the number of lowercase letters in a string.\n",
    "def count_lowercase(input_string):\n",
    "    return len([char for char in input_string if char.islower()])\n",
    "\n",
    "# Example usage\n",
    "input_string = \"Hello World!\"\n",
    "uppercase_count = count_lowercase(input_string)\n",
    "print(uppercase_count) "
   ]
  },
  {
   "cell_type": "code",
   "execution_count": 29,
   "id": "345a86d6",
   "metadata": {},
   "outputs": [
    {
     "name": "stdout",
     "output_type": "stream",
     "text": [
      "hELLO wORLD!\n"
     ]
    }
   ],
   "source": [
    "#swap the case of each incharacter in a string.\n",
    "def swap_case(input_string):\n",
    "    return input_string.swapcase()\n",
    "\n",
    "# Example usage\n",
    "input_string = \"Hello World!\"\n",
    "swapped_string = swap_case(input_string)\n",
    "print(swapped_string)  # Output: hELLO wORLD!\n"
   ]
  },
  {
   "cell_type": "code",
   "execution_count": 30,
   "id": "d2c0f4c6",
   "metadata": {},
   "outputs": [
    {
     "name": "stdout",
     "output_type": "stream",
     "text": [
      "Hello world, welcome to the of Python\n"
     ]
    }
   ],
   "source": [
    "#Remove a specific word from a string.\n",
    "def remove_word(input_string, word_to_remove):\n",
    "    words = input_string.split()\n",
    "    words = [word for word in words if word != word_to_remove]\n",
    "    return ' '.join(words)\n",
    "\n",
    "# Example usage\n",
    "input_string = \"Hello world, welcome to the world of Python\"\n",
    "word_to_remove = \"world\"\n",
    "new_string = remove_word(input_string, word_to_remove)\n",
    "print(new_string)  # Output: Hello welcome to the of Python\n"
   ]
  },
  {
   "cell_type": "code",
   "execution_count": 31,
   "id": "cce01f3d",
   "metadata": {},
   "outputs": [
    {
     "name": "stdout",
     "output_type": "stream",
     "text": [
      "True\n",
      "False\n"
     ]
    }
   ],
   "source": [
    "#Check if a string is a valid email address.\n",
    "import re\n",
    "\n",
    "def is_valid_email(email):\n",
    "    regex = r'^[A-Za-z0-9._%+-]+@[A-Za-z0-9.-]+\\.[A-Z|a-z]{2,}$'\n",
    "    return re.match(regex, email) is not None\n",
    "\n",
    "# Example usage\n",
    "email = \"example@example.com\"\n",
    "print(is_valid_email(email))  # Output: True\n",
    "\n",
    "email = \"invalid-email\"\n",
    "print(is_valid_email(email))  # Output: False\n"
   ]
  },
  {
   "cell_type": "code",
   "execution_count": 32,
   "id": "ccc3b95d",
   "metadata": {},
   "outputs": [
    {
     "name": "stdout",
     "output_type": "stream",
     "text": [
      "example\n"
     ]
    }
   ],
   "source": [
    "#Extract the username from an email address string.\n",
    "def extract_username(email):\n",
    "    return email.split('@')[0]\n",
    "\n",
    "# Example usage\n",
    "email = \"example@example.com\"\n",
    "username = extract_username(email)\n",
    "print(username)  # Output: example\n"
   ]
  },
  {
   "cell_type": "code",
   "execution_count": 33,
   "id": "90b07c8b",
   "metadata": {},
   "outputs": [
    {
     "name": "stdout",
     "output_type": "stream",
     "text": [
      "example.com\n"
     ]
    }
   ],
   "source": [
    "#Extract the domain name from an email address string.\n",
    "def extract_username(email):\n",
    "    return email.split('@')[1]\n",
    "\n",
    "# Example usage\n",
    "email = \"example@example.com\"\n",
    "username = extract_username(email)\n",
    "print(username)"
   ]
  },
  {
   "cell_type": "code",
   "execution_count": 34,
   "id": "ab6e37f6",
   "metadata": {},
   "outputs": [
    {
     "name": "stdout",
     "output_type": "stream",
     "text": [
      "This is a string with multiple spaces.\n"
     ]
    }
   ],
   "source": [
    "#Replace multiple spaces in a string with a single space.\n",
    "def replace_multiple_spaces(input_string):\n",
    "    return ' '.join(input_string.split())\n",
    "\n",
    "# Example usage\n",
    "input_string = \"This   is  a   string   with  multiple   spaces.\"\n",
    "output_string = replace_multiple_spaces(input_string)\n",
    "print(output_string)  # Output: This is a string with multiple spaces.\n"
   ]
  },
  {
   "cell_type": "code",
   "execution_count": 35,
   "id": "f59512a3",
   "metadata": {},
   "outputs": [
    {
     "name": "stdout",
     "output_type": "stream",
     "text": [
      "False\n",
      "False\n"
     ]
    }
   ],
   "source": [
    "#Check if a string is a valid URL.\n",
    "import re\n",
    "\n",
    "def is_valid_url(url):\n",
    "    regex = re.compile(\n",
    "        r'^(?:http|ftp)s?://'  # http:// or https://\n",
    "        r'(?:(?:A-Z0-9?\\.)+(?:[A-Z]{2,6}\\.?|[A-Z0-9-]{2,}\\.?)|'  # domain...\n",
    "        r'localhost|'  # localhost...\n",
    "        r'\\d{1,3}\\.\\d{1,3}\\.\\d{1,3}\\.\\d{1,3})'  # ...or ip\n",
    "        r'(?::\\d+)?'  # optional port\n",
    "        r'(?:/?|[/?]\\S+)$', re.IGNORECASE)\n",
    "    return re.match(regex, url) is not None\n",
    "\n",
    "# Example usage\n",
    "url = \"https://example.com\"\n",
    "print(is_valid_url(url))  # Output: True\n",
    "\n",
    "url = \"invalid-url\"\n",
    "print(is_valid_url(url))  # Output: False\n"
   ]
  },
  {
   "cell_type": "code",
   "execution_count": 36,
   "id": "c2f9efb8",
   "metadata": {},
   "outputs": [
    {
     "name": "stdout",
     "output_type": "stream",
     "text": [
      "https\n"
     ]
    }
   ],
   "source": [
    "#Extract the protocol (http or https) from a URL string.\n",
    "\n",
    "url = \"https://www.example.com\"\n",
    "protocol = url.split(':')[0]\n",
    "print(protocol)"
   ]
  },
  {
   "cell_type": "code",
   "execution_count": 37,
   "id": "1fc85a0b",
   "metadata": {},
   "outputs": [
    {
     "name": "stdout",
     "output_type": "stream",
     "text": [
      "Counter({'n': 2, 's': 2, 'a': 2, 'v': 1, 'i': 1, 'g': 1, 'e': 1, 'h': 1, 'w': 1, 'r': 1, 'b': 1})\n"
     ]
    }
   ],
   "source": [
    "#Find the frequency of each character in a string.\n",
    "from collections import Counter\n",
    "string = \"vigneshwaranbs\"\n",
    "character_frequency = Counter(string)\n",
    "print(character_frequency)"
   ]
  },
  {
   "cell_type": "code",
   "execution_count": 38,
   "id": "f59aa3fc",
   "metadata": {},
   "outputs": [
    {
     "name": "stdout",
     "output_type": "stream",
     "text": [
      "Hello world Hows it going\n"
     ]
    }
   ],
   "source": [
    "#Remove all punctuation from a string.\n",
    "import string\n",
    "\n",
    "def remove_punctuation(input_string):\n",
    "    return input_string.translate(str.maketrans('', '', string.punctuation))\n",
    "\n",
    "# Example usage\n",
    "input_string = \"Hello, world! How's it going?\"\n",
    "clean_string = remove_punctuation(input_string)\n",
    "print(clean_string)  # Output: Hello world Hows it going\n"
   ]
  },
  {
   "cell_type": "code",
   "execution_count": 39,
   "id": "96a0fd42",
   "metadata": {},
   "outputs": [
    {
     "name": "stdout",
     "output_type": "stream",
     "text": [
      "Contains non-digit characters\n"
     ]
    }
   ],
   "source": [
    "#Check if a string contains only digits.\n",
    "string = \"1sfa2345\"\n",
    "if string.isdigit():\n",
    "    print(\"Contains only digits\")\n",
    "else:\n",
    "    print(\"Contains non-digit characters\")"
   ]
  },
  {
   "cell_type": "code",
   "execution_count": 40,
   "id": "0e438525",
   "metadata": {},
   "outputs": [
    {
     "name": "stdout",
     "output_type": "stream",
     "text": [
      "Contains only alphabets\n"
     ]
    }
   ],
   "source": [
    "#Check if a string contains only alphabets.\n",
    "string = \"vigneshwaran\"\n",
    "if string.isalpha():\n",
    "    print(\"Contains only alphabets\")\n",
    "else:\n",
    "    print(\"Contains non-alphabet characters\")\n"
   ]
  },
  {
   "cell_type": "code",
   "execution_count": 41,
   "id": "e2c1a489",
   "metadata": {},
   "outputs": [
    {
     "name": "stdout",
     "output_type": "stream",
     "text": [
      "['v', 'w', 'g', 'n', 'j', 'w', 'o', 'n', 'w', 'o', 'n']\n"
     ]
    }
   ],
   "source": [
    "#Check if a string contains only alphabets.\n",
    "string = \"vwgnjwonwon\"\n",
    "char_list = list(string)\n",
    "print(char_list)"
   ]
  },
  {
   "cell_type": "code",
   "execution_count": 42,
   "id": "1388a170",
   "metadata": {},
   "outputs": [
    {
     "name": "stdout",
     "output_type": "stream",
     "text": [
      "True\n",
      "False\n"
     ]
    }
   ],
   "source": [
    "#Check if two strings are anagrams.\n",
    "def are_anagrams(str1, str2):\n",
    "    return sorted(str1) == sorted(str2)\n",
    "\n",
    "# Example usage\n",
    "str1 = \"listen\"\n",
    "str2 = \"silent\"\n",
    "print(are_anagrams(str1, str2))  # Output: True\n",
    "\n",
    "str1 = \"hello\"\n",
    "str2 = \"world\"\n",
    "print(are_anagrams(str1, str2))  # Output: False\n"
   ]
  },
  {
   "cell_type": "code",
   "execution_count": 43,
   "id": "48335d62",
   "metadata": {},
   "outputs": [
    {
     "name": "stdout",
     "output_type": "stream",
     "text": [
      "Khoor, Zruog!\n"
     ]
    }
   ],
   "source": [
    "#Encode a string using a Caesar cipher.\n",
    "def caesar_cipher(input_string, shift):\n",
    "    result = \"\"\n",
    "    for char in input_string:\n",
    "        if char.isalpha():\n",
    "            shift_amount = shift % 26\n",
    "            if char.islower():\n",
    "                result += chr((ord(char) - ord('a') + shift_amount) % 26 + ord('a'))\n",
    "            elif char.isupper():\n",
    "                result += chr((ord(char) - ord('A') + shift_amount) % 26 + ord('A'))\n",
    "        else:\n",
    "            result += char\n",
    "    return result\n",
    "\n",
    "# Example usage\n",
    "input_string = \"Hello, World!\"\n",
    "shift = 3\n",
    "encoded_string = caesar_cipher(input_string, shift)\n",
    "print(encoded_string)  # Output: Khoor, Zruog!\n"
   ]
  },
  {
   "cell_type": "code",
   "execution_count": 44,
   "id": "c52a5d84",
   "metadata": {},
   "outputs": [
    {
     "name": "stdout",
     "output_type": "stream",
     "text": [
      "Hello, World!\n"
     ]
    }
   ],
   "source": [
    "#Decode a Caesar cipher encoded string.\n",
    "def decode_caesar_cipher(encoded_string, shift):\n",
    "    result = \"\"\n",
    "    for char in encoded_string:\n",
    "        if char.isalpha():\n",
    "            shift_amount = shift % 26\n",
    "            if char.islower():\n",
    "                result += chr((ord(char) - ord('a') - shift_amount) % 26 + ord('a'))\n",
    "            elif char.isupper():\n",
    "                result += chr((ord(char) - ord('A') - shift_amount) % 26 + ord('A'))\n",
    "        else:\n",
    "            result += char\n",
    "    return result\n",
    "\n",
    "# Example usage\n",
    "encoded_string = \"Khoor, Zruog!\"\n",
    "shift = 3\n",
    "decoded_string = decode_caesar_cipher(encoded_string, shift)\n",
    "print(decoded_string)  # Output: Hello, World!\n"
   ]
  },
  {
   "cell_type": "code",
   "execution_count": 45,
   "id": "be1aeb36",
   "metadata": {},
   "outputs": [
    {
     "name": "stdout",
     "output_type": "stream",
     "text": [
      "apple\n"
     ]
    }
   ],
   "source": [
    "#Find the most frequent word in a string.\n",
    "from collections import Counter\n",
    "\n",
    "def most_frequent_word(input_string):\n",
    "    words = input_string.split()\n",
    "    word_counts = Counter(words)\n",
    "    most_common_word, _ = word_counts.most_common(1)[0]\n",
    "    return most_common_word\n",
    "\n",
    "# Example usage\n",
    "input_string = \"apple banana apple orange banana apple\"\n",
    "most_common_word = most_frequent_word(input_string)\n",
    "print(most_common_word)  # Output: apple\n"
   ]
  },
  {
   "cell_type": "code",
   "execution_count": 46,
   "id": "0be97419",
   "metadata": {},
   "outputs": [
    {
     "name": "stdout",
     "output_type": "stream",
     "text": [
      "{'orange', 'apple', 'banana'}\n"
     ]
    }
   ],
   "source": [
    "#Find all unique words in a string.\n",
    "def unique_words(input_string):\n",
    "    words = input_string.split()\n",
    "    unique = set(words)\n",
    "    return unique\n",
    "\n",
    "# Example usage\n",
    "input_string = \"apple banana apple orange banana apple\"\n",
    "unique = unique_words(input_string)\n",
    "print(unique)  # Output: {'banana', 'orange', 'apple'}\n"
   ]
  },
  {
   "cell_type": "code",
   "execution_count": 47,
   "id": "6f68a256",
   "metadata": {},
   "outputs": [
    {
     "name": "stdout",
     "output_type": "stream",
     "text": [
      "9\n"
     ]
    }
   ],
   "source": [
    "#Count the number of syllables in a string.\n",
    "import re\n",
    "\n",
    "def count_syllables(input_string):\n",
    "    words = input_string.split()\n",
    "    syllable_count = 0\n",
    "    for word in words:\n",
    "        word = word.lower()\n",
    "        word = re.sub(r'[^a-z]', '', word)  # Remove non-alphabetic characters\n",
    "        syllable_count += len(re.findall(r'[aeiouy]+', word))\n",
    "    return syllable_count\n",
    "\n",
    "# Example usage\n",
    "input_string = \"This is an example sentence.\"\n",
    "syllables = count_syllables(input_string)\n",
    "print(syllables)  # Output: 8\n"
   ]
  },
  {
   "cell_type": "code",
   "execution_count": 48,
   "id": "9f847d4c",
   "metadata": {},
   "outputs": [
    {
     "name": "stdout",
     "output_type": "stream",
     "text": [
      "True\n"
     ]
    }
   ],
   "source": [
    "#Check if a string contains any special characters.\n",
    "import re\n",
    "\n",
    "def contains_special_characters(s):\n",
    "    # Define a regex pattern for special characters\n",
    "    pattern = re.compile(r'[^a-zA-Z0-9]')\n",
    "    # Search for the pattern in the string\n",
    "    return bool(pattern.search(s))\n",
    "\n",
    "# Example usage\n",
    "string = \"Hello@World!\"\n",
    "print(contains_special_characters(string))  # Output: True\n"
   ]
  },
  {
   "cell_type": "code",
   "execution_count": 49,
   "id": "5890c21e",
   "metadata": {},
   "outputs": [
    {
     "name": "stdout",
     "output_type": "stream",
     "text": [
      "The quick brown jumps over the lazy dog\n"
     ]
    }
   ],
   "source": [
    "#Remove the nth word from a string.\n",
    "def remove_nth_word(s, n):\n",
    "    # Split the string into a list of words\n",
    "    words = s.split()\n",
    "    \n",
    "    # Check if n is within the range of the list\n",
    "    if 0 <= n < len(words):\n",
    "        # Remove the nth word\n",
    "        del words[n]\n",
    "    \n",
    "    # Join the list back into a string\n",
    "    return ' '.join(words)\n",
    "\n",
    "# Example usage\n",
    "string = \"The quick brown fox jumps over the lazy dog\"\n",
    "n = 3\n",
    "print(remove_nth_word(string, n))  # Output: \"The quick brown jumps over the lazy dog\"\n"
   ]
  },
  {
   "cell_type": "code",
   "execution_count": 50,
   "id": "56732c7e",
   "metadata": {},
   "outputs": [
    {
     "name": "stdout",
     "output_type": "stream",
     "text": [
      "The quick clever brown fox jumps over the lazy dog\n"
     ]
    }
   ],
   "source": [
    "#Insert a word at the nth position in a string.\n",
    "def insert_word_at_nth_position(s, word, n):\n",
    "    # Split the string into a list of words\n",
    "    words = s.split()\n",
    "    \n",
    "    # Insert the new word at the nth position\n",
    "    words.insert(n, word)\n",
    "    \n",
    "    # Join the list back into a string\n",
    "    return ' '.join(words)\n",
    "\n",
    "# Example usage\n",
    "string = \"The quick brown fox jumps over the lazy dog\"\n",
    "word = \"clever\"\n",
    "n = 2\n",
    "print(insert_word_at_nth_position(string, word, n))  # Output: \"The quick clever brown fox jumps over the lazy dog\"\n"
   ]
  },
  {
   "cell_type": "code",
   "execution_count": 51,
   "id": "a1f60989",
   "metadata": {},
   "outputs": [
    {
     "name": "stdout",
     "output_type": "stream",
     "text": [
      "[['name', 'age', 'city'], ['Alice', '30', 'New York'], ['Bob', '25', 'Los Angeles'], ['Charlie', '35', 'Chicago']]\n"
     ]
    }
   ],
   "source": [
    "#Convert a CSV string to a list of lists.\n",
    "import csv\n",
    "from io import StringIO\n",
    "\n",
    "def csv_string_to_list_of_lists(csv_string):\n",
    "    # Use StringIO to treat the CSV string as a file\n",
    "    f = StringIO(csv_string)\n",
    "    reader = csv.reader(f, delimiter=',')\n",
    "    \n",
    "    # Convert the CSV reader object to a list of lists\n",
    "    return list(reader)\n",
    "\n",
    "# Example usage\n",
    "csv_string = \"name,age,city\\nAlice,30,New York\\nBob,25,Los Angeles\\nCharlie,35,Chicago\"\n",
    "result = csv_string_to_list_of_lists(csv_string)\n",
    "print(result)\n",
    "# Output: [['name', 'age', 'city'], ['Alice', '30', 'New York'], ['Bob', '25', 'Los Angeles'], ['Charlie', '35', 'Chicago']]\n"
   ]
  },
  {
   "cell_type": "code",
   "execution_count": 52,
   "id": "d83632bf",
   "metadata": {},
   "outputs": [],
   "source": [
    "# List Based Practice Problem "
   ]
  },
  {
   "cell_type": "code",
   "execution_count": 53,
   "id": "ddc25491",
   "metadata": {},
   "outputs": [
    {
     "data": {
      "text/plain": [
       "[1, 2, 3, 4, 5, 6, 7, 8, 9, 10]"
      ]
     },
     "execution_count": 53,
     "metadata": {},
     "output_type": "execute_result"
    }
   ],
   "source": [
    "#Create a list with integers from 1 to 10\n",
    "list_10 =list(range(1,11))\n",
    "list_10"
   ]
  },
  {
   "cell_type": "code",
   "execution_count": 54,
   "id": "ba16867f",
   "metadata": {},
   "outputs": [
    {
     "name": "stdout",
     "output_type": "stream",
     "text": [
      "5\n"
     ]
    }
   ],
   "source": [
    "#Find the length of a list without using the `len()` function\n",
    "integer_list = [1, 2, 3, 4, 5]\n",
    "length = sum(1 for _ in integer_list)\n",
    "print(length)\n"
   ]
  },
  {
   "cell_type": "code",
   "execution_count": 55,
   "id": "4e6e62fc",
   "metadata": {},
   "outputs": [],
   "source": [
    "#Append an element to the end of a list.\n",
    "list_10.append(11)"
   ]
  },
  {
   "cell_type": "code",
   "execution_count": 56,
   "id": "f45f9d71",
   "metadata": {},
   "outputs": [
    {
     "data": {
      "text/plain": [
       "[1, 2, 3, 4, 5, 6, 7, 8, 9, 10, 11]"
      ]
     },
     "execution_count": 56,
     "metadata": {},
     "output_type": "execute_result"
    }
   ],
   "source": [
    "list_10"
   ]
  },
  {
   "cell_type": "code",
   "execution_count": 57,
   "id": "df39d10c",
   "metadata": {},
   "outputs": [
    {
     "name": "stdout",
     "output_type": "stream",
     "text": [
      "[1, 2, 10, 3, 4, 5]\n"
     ]
    }
   ],
   "source": [
    "#nsert an element at a specific index in a list\n",
    "integer_list = [1, 2, 3, 4, 5]\n",
    "integer_list.insert(2, 10)\n",
    "print(integer_list)\n"
   ]
  },
  {
   "cell_type": "code",
   "execution_count": 58,
   "id": "68711172",
   "metadata": {},
   "outputs": [
    {
     "name": "stdout",
     "output_type": "stream",
     "text": [
      "[1, 2, 4, 5]\n"
     ]
    }
   ],
   "source": [
    "#Remove an element from a list by its value\n",
    "integer_list = [1, 2, 3, 4, 5]\n",
    "integer_list.remove(3)\n",
    "print(integer_list)"
   ]
  },
  {
   "cell_type": "code",
   "execution_count": 59,
   "id": "81e757d6",
   "metadata": {},
   "outputs": [
    {
     "name": "stdout",
     "output_type": "stream",
     "text": [
      "[1, 2, 3, 5]\n"
     ]
    }
   ],
   "source": [
    "# Remove an element from a list by its index\n",
    "integer_list = [1, 2, 3, 4, 5]\n",
    "integer_list.pop(3)\n",
    "print(integer_list)\n"
   ]
  },
  {
   "cell_type": "code",
   "execution_count": 60,
   "id": "942ca99a",
   "metadata": {},
   "outputs": [
    {
     "name": "stdout",
     "output_type": "stream",
     "text": [
      "yes\n"
     ]
    }
   ],
   "source": [
    "#check if an element exists in a list.\n",
    "integer_list = [1, 2, 3, 4, 5]\n",
    "element=5\n",
    "if element in integer_list:\n",
    "    print(\"yes\")\n",
    "else:\n",
    "    print(\"no\")"
   ]
  },
  {
   "cell_type": "code",
   "execution_count": 61,
   "id": "e97209d5",
   "metadata": {},
   "outputs": [
    {
     "name": "stdout",
     "output_type": "stream",
     "text": [
      "2\n"
     ]
    }
   ],
   "source": [
    "# Find the index of the first occurrence of an element in a list\n",
    "integer_list = [1, 2, 3, 4, 5, 3]\n",
    "element = 3\n",
    "index = integer_list.index(element)\n",
    "print(index)\n"
   ]
  },
  {
   "cell_type": "code",
   "execution_count": 62,
   "id": "0107d573",
   "metadata": {},
   "outputs": [
    {
     "name": "stdout",
     "output_type": "stream",
     "text": [
      "1\n"
     ]
    }
   ],
   "source": [
    "# Count the occurrences of an element in a list.\n",
    "integer_list = [1, 2, 3, 4, 5, 3]\n",
    "element = 1\n",
    "count = integer_list.count(element)\n",
    "print(count)\n"
   ]
  },
  {
   "cell_type": "code",
   "execution_count": 63,
   "id": "f3478c86",
   "metadata": {},
   "outputs": [
    {
     "name": "stdout",
     "output_type": "stream",
     "text": [
      "[3, 5, 4, 3, 2, 1]\n"
     ]
    }
   ],
   "source": [
    "# Reverse the order of elements in a list.\n",
    "integer_list = [1, 2, 3, 4, 5, 3]\n",
    "count = integer_list[::-1]\n",
    "print(count)"
   ]
  },
  {
   "cell_type": "code",
   "execution_count": 64,
   "id": "8ada4761",
   "metadata": {},
   "outputs": [
    {
     "name": "stdout",
     "output_type": "stream",
     "text": [
      "[1, 2, 5, 8, 9]\n"
     ]
    }
   ],
   "source": [
    "#Sort a list in ascending order.\n",
    "integer_list = [5, 2, 8, 1, 9]\n",
    "sorted_list = sorted(integer_list)\n",
    "print(sorted_list)\n"
   ]
  },
  {
   "cell_type": "code",
   "execution_count": 65,
   "id": "cc1690c9",
   "metadata": {},
   "outputs": [
    {
     "name": "stdout",
     "output_type": "stream",
     "text": [
      "[9, 8, 5, 2, 1]\n"
     ]
    }
   ],
   "source": [
    "# Sort a list in descending order.\n",
    "integer_list = [5, 2, 8, 1, 9]\n",
    "sorted_list = sorted(integer_list,reverse=True)\n",
    "print(sorted_list)"
   ]
  },
  {
   "cell_type": "code",
   "execution_count": 66,
   "id": "a962b860",
   "metadata": {},
   "outputs": [
    {
     "name": "stdout",
     "output_type": "stream",
     "text": [
      "[2, 4, 6, 8, 10, 12, 14, 16, 18, 20]\n"
     ]
    }
   ],
   "source": [
    "# Create a list of even numbers from 1 to 20.\n",
    "even_list = [x for x in range(1, 21) if x % 2 == 0]\n",
    "print(even_list)\n"
   ]
  },
  {
   "cell_type": "code",
   "execution_count": 67,
   "id": "e78f0a2e",
   "metadata": {},
   "outputs": [
    {
     "name": "stdout",
     "output_type": "stream",
     "text": [
      "[1, 3, 5, 7, 9, 11, 13, 15, 17, 19]\n"
     ]
    }
   ],
   "source": [
    "#create a list of odd numbers from 1 to 20\n",
    "even_list = [x for x in range(1, 21) if x % 2 == 1]\n",
    "print(even_list)\n"
   ]
  },
  {
   "cell_type": "code",
   "execution_count": 68,
   "id": "97974b28",
   "metadata": {},
   "outputs": [],
   "source": [
    "#Find the sum of all elements in a list.\n",
    "integer_list = [5, 2, 8, 1, 9]\n",
    "sumlist= sum(integer_list)"
   ]
  },
  {
   "cell_type": "code",
   "execution_count": 69,
   "id": "ac5d8af2",
   "metadata": {},
   "outputs": [
    {
     "data": {
      "text/plain": [
       "25"
      ]
     },
     "execution_count": 69,
     "metadata": {},
     "output_type": "execute_result"
    }
   ],
   "source": [
    "sumlist"
   ]
  },
  {
   "cell_type": "code",
   "execution_count": 70,
   "id": "9169d258",
   "metadata": {},
   "outputs": [
    {
     "data": {
      "text/plain": [
       "9"
      ]
     },
     "execution_count": 70,
     "metadata": {},
     "output_type": "execute_result"
    }
   ],
   "source": [
    "# Find the maximum value in a list.\n",
    "maxvalue=max(integer_list)\n",
    "maxvalue"
   ]
  },
  {
   "cell_type": "code",
   "execution_count": 71,
   "id": "2084151e",
   "metadata": {},
   "outputs": [
    {
     "data": {
      "text/plain": [
       "1"
      ]
     },
     "execution_count": 71,
     "metadata": {},
     "output_type": "execute_result"
    }
   ],
   "source": [
    "# Find the minimum value in a list.\n",
    "minvalue = min(integer_list)\n",
    "minvalue"
   ]
  },
  {
   "cell_type": "code",
   "execution_count": 72,
   "id": "8d675cb9",
   "metadata": {},
   "outputs": [
    {
     "name": "stdout",
     "output_type": "stream",
     "text": [
      "[1, 4, 9, 16, 25, 36, 49, 64, 81, 100]\n"
     ]
    }
   ],
   "source": [
    "#. Create a list of squares of numbers from 1 to 10\n",
    "squares_list = [x**2 for x in range(1, 11)]\n",
    "print(squares_list)\n"
   ]
  },
  {
   "cell_type": "code",
   "execution_count": 73,
   "id": "2e58c166",
   "metadata": {},
   "outputs": [
    {
     "name": "stdout",
     "output_type": "stream",
     "text": [
      "[52, 4, 83, 18, 60, 44, 29, 86, 33, 16]\n"
     ]
    }
   ],
   "source": [
    "#create a list of random numbers.\n",
    "import random\n",
    "random_list = [random.randint(1, 100) for _ in range(10)]\n",
    "print(random_list)"
   ]
  },
  {
   "cell_type": "code",
   "execution_count": 74,
   "id": "46cc8cfa",
   "metadata": {},
   "outputs": [
    {
     "name": "stdout",
     "output_type": "stream",
     "text": [
      "[1, 2, 3, 4, 5]\n"
     ]
    }
   ],
   "source": [
    "# Remove duplicates from a list\n",
    "integer_list = [1, 2, 2, 3, 4, 4, 5]\n",
    "unique_list = list(set(integer_list))\n",
    "print(unique_list)"
   ]
  },
  {
   "cell_type": "code",
   "execution_count": 75,
   "id": "6bf8a734",
   "metadata": {},
   "outputs": [
    {
     "data": {
      "text/plain": [
       "[0, 4, 5, 6]"
      ]
     },
     "execution_count": 75,
     "metadata": {},
     "output_type": "execute_result"
    }
   ],
   "source": [
    "#find the common elements between two lists\n",
    "list1= [1,5,8,6,4,0,1]\n",
    "list2=[5,6,7,4,2,5,9,0]\n",
    "common = list(set(list1) & set(list2))\n",
    "common"
   ]
  },
  {
   "cell_type": "code",
   "execution_count": 76,
   "id": "ac811a64",
   "metadata": {},
   "outputs": [
    {
     "data": {
      "text/plain": [
       "[8, 1]"
      ]
     },
     "execution_count": 76,
     "metadata": {},
     "output_type": "execute_result"
    }
   ],
   "source": [
    "#. Find the difference between two lists\n",
    "list1= [1,5,8,6,4,0,1]\n",
    "list2=[5,6,7,4,2,5,9,0]\n",
    "common = list(set(list1) - set(list2))\n",
    "common"
   ]
  },
  {
   "cell_type": "code",
   "execution_count": 77,
   "id": "88c6e07d",
   "metadata": {},
   "outputs": [
    {
     "name": "stdout",
     "output_type": "stream",
     "text": [
      "[1, 2, 3, 4, 5, 6]\n"
     ]
    }
   ],
   "source": [
    "#. Merge two lists\n",
    "list1 = [1, 2, 3]\n",
    "list2 = [4, 5, 6]\n",
    "merged_list = list1 + list2\n",
    "print(merged_list)"
   ]
  },
  {
   "cell_type": "code",
   "execution_count": 78,
   "id": "a7cb098c",
   "metadata": {},
   "outputs": [
    {
     "name": "stdout",
     "output_type": "stream",
     "text": [
      "[2, 4, 6, 8, 10]\n"
     ]
    }
   ],
   "source": [
    "#. Multiply all elements in a list by 2\n",
    "integer_list = [1, 2, 3, 4, 5]\n",
    "doubled_list = [x * 2 for x in integer_list]\n",
    "print(doubled_list)"
   ]
  },
  {
   "cell_type": "code",
   "execution_count": 79,
   "id": "4e661b74",
   "metadata": {},
   "outputs": [
    {
     "name": "stdout",
     "output_type": "stream",
     "text": [
      "[1, 3, 5]\n"
     ]
    }
   ],
   "source": [
    "#Filter out all even numbers from a list.\n",
    "integer_list = [1, 2, 3, 4, 5, 6]\n",
    "filtered_list = [x for x in integer_list if x % 2 != 0]\n",
    "print(filtered_list)"
   ]
  },
  {
   "cell_type": "code",
   "execution_count": 80,
   "id": "27e2fe2b",
   "metadata": {},
   "outputs": [
    {
     "name": "stdout",
     "output_type": "stream",
     "text": [
      "['1', '2', '3', '4', '5']\n"
     ]
    }
   ],
   "source": [
    "# Convert a list of strings to a list of integers.\n",
    "integer_list = [1, 2, 3, 4, 5]\n",
    "string_list = [str(x) for x in integer_list]\n",
    "print(string_list)\n"
   ]
  },
  {
   "cell_type": "code",
   "execution_count": 81,
   "id": "5e5d60f3",
   "metadata": {},
   "outputs": [
    {
     "name": "stdout",
     "output_type": "stream",
     "text": [
      "[1, 2, 3, 4, 5, 6, 7, 8, 9]\n"
     ]
    }
   ],
   "source": [
    "# Flatten a nested list\n",
    "nested_list = [[1, 2, 3], [4, 5, 6], [7, 8, 9]]\n",
    "flattened_list = [x for sublist in nested_list for x in sublist]\n",
    "print(flattened_list)"
   ]
  },
  {
   "cell_type": "code",
   "execution_count": 82,
   "id": "1830ff58",
   "metadata": {},
   "outputs": [
    {
     "name": "stdout",
     "output_type": "stream",
     "text": [
      "[0, 1, 1, 2, 3, 5, 8, 13, 21, 34]\n"
     ]
    }
   ],
   "source": [
    "# Create a list of the first 10 Fibonacci numbers\n",
    "def fibonacci(n):\n",
    "    fib_list = [0, 1]\n",
    "    while len(fib_list) < n:\n",
    "        fib_list.append(fib_list[-1] + fib_list[-2])\n",
    "    return fib_list\n",
    "\n",
    "n = 10\n",
    "fibonacci_list = fibonacci(n)\n",
    "print(fibonacci_list)\n"
   ]
  },
  {
   "cell_type": "code",
   "execution_count": 83,
   "id": "0cd0d939",
   "metadata": {},
   "outputs": [
    {
     "name": "stdout",
     "output_type": "stream",
     "text": [
      "False\n"
     ]
    }
   ],
   "source": [
    "# Check if a list is sorted.\n",
    "integer_list = [1, 2, 3, 14, 5]\n",
    "is_sorted = all(integer_list[i] <= integer_list[i+1] for i in range(len(integer_list)-1))\n",
    "print(is_sorted)"
   ]
  },
  {
   "cell_type": "code",
   "execution_count": 84,
   "id": "f5801c5e",
   "metadata": {},
   "outputs": [
    {
     "name": "stdout",
     "output_type": "stream",
     "text": [
      "[3, 4, 5, 1, 2]\n"
     ]
    }
   ],
   "source": [
    "#. Rotate a list to the left by `n` positions.\n",
    "def rotate_list_left(lst, n):\n",
    "    # Ensure n is within the bounds of the list length\n",
    "    n = n % len(lst)\n",
    "    return lst[n:] + lst[:n]\n",
    "\n",
    "# Example usage\n",
    "my_list = [1, 2, 3, 4, 5]\n",
    "rotated_list = rotate_list_left(my_list, 2)\n",
    "print(rotated_list)  # Output: [3, 4, 5, 1, 2]\n"
   ]
  },
  {
   "cell_type": "code",
   "execution_count": 85,
   "id": "14dae8ce",
   "metadata": {},
   "outputs": [
    {
     "name": "stdout",
     "output_type": "stream",
     "text": [
      "[4, 5, 1, 2, 3]\n"
     ]
    }
   ],
   "source": [
    "#Rotate a list to the right by `n` positions.\n",
    "def rotate_left(lst, n):\n",
    "    n = n % len(lst)\n",
    "    rotated_list = lst[n:] + lst[:n]\n",
    "    return rotated_list\n",
    "\n",
    "integer_list = [1, 2, 3, 4, 5]\n",
    "n = 3\n",
    "rotated_list = rotate_left(integer_list, n)\n",
    "print(rotated_list)"
   ]
  },
  {
   "cell_type": "code",
   "execution_count": 86,
   "id": "ff8830b6",
   "metadata": {},
   "outputs": [
    {
     "name": "stdout",
     "output_type": "stream",
     "text": [
      "[2, 3, 5, 7, 11, 13, 17, 19, 23, 29, 31, 37, 41, 43, 47]\n"
     ]
    }
   ],
   "source": [
    "#Create a list of prime numbers up to 50\n",
    "def is_prime(num):\n",
    "    if num <= 1:\n",
    "        return False\n",
    "    if num <= 3:\n",
    "        return True\n",
    "    if num % 2 == 0 or num % 3 == 0:\n",
    "        return False\n",
    "    i = 5\n",
    "    while i * i <= num:\n",
    "        if num % i == 0 or num % (i + 2) == 0:\n",
    "            return False\n",
    "        i += 6\n",
    "    return True\n",
    "\n",
    "prime_list = [num for num in range(2, 51) if is_prime(num)]\n",
    "print(prime_list)"
   ]
  },
  {
   "cell_type": "code",
   "execution_count": 87,
   "id": "4d023fc4",
   "metadata": {},
   "outputs": [
    {
     "name": "stdout",
     "output_type": "stream",
     "text": [
      "[[1, 2, 3], [4, 5, 6], [7, 8, 9], [10]]\n"
     ]
    }
   ],
   "source": [
    "#. Split a list into chunks of size `n`.\n",
    "def split_into_chunks(integer_list,chunk_size):\n",
    "    return [integer_list[i:i+n] for i in range(0, len(integer_list), n)]\n",
    "\n",
    "integer_list = [1, 2, 3, 4, 5, 6, 7, 8, 9, 10]\n",
    "chunk_size = 3\n",
    "chunked_list = split_into_chunks(integer_list, chunk_size)\n",
    "print(chunked_list)"
   ]
  },
  {
   "cell_type": "code",
   "execution_count": 88,
   "id": "1aea2d18",
   "metadata": {},
   "outputs": [
    {
     "name": "stdout",
     "output_type": "stream",
     "text": [
      "8\n"
     ]
    }
   ],
   "source": [
    "#. Find the second largest number in a list.\n",
    "integer_list = [5, 2, 8, 1, 9]\n",
    "sorted_list = sorted(integer_list)\n",
    "second_largest = sorted_list[-2]\n",
    "sorted_list\n",
    "print(second_largest)\n"
   ]
  },
  {
   "cell_type": "code",
   "execution_count": 89,
   "id": "e23d9ae4",
   "metadata": {},
   "outputs": [
    {
     "name": "stdout",
     "output_type": "stream",
     "text": [
      "[1, 4, 9, 16, 25]\n"
     ]
    }
   ],
   "source": [
    "#. Replace every element in a list with its square.\n",
    "integer_list = [1, 2, 3, 4, 5]\n",
    "squared_list = [x ** 2 for x in integer_list]\n",
    "print(squared_list)\n"
   ]
  },
  {
   "cell_type": "code",
   "execution_count": 90,
   "id": "a144424d",
   "metadata": {},
   "outputs": [
    {
     "name": "stdout",
     "output_type": "stream",
     "text": [
      "{'a': 0, 'b': 1, 'c': 2, 'd': 3}\n"
     ]
    }
   ],
   "source": [
    "#. Convert a list to a dictionary where list elements become keys and their\n",
    "#indices become values.\n",
    "def list_to_dict(lst):\n",
    "    return {element: index for index, element in enumerate(lst)}\n",
    "\n",
    "# Example usage\n",
    "my_list = ['a', 'b', 'c', 'd']\n",
    "result_dict = list_to_dict(my_list)\n",
    "print(result_dict)  # Output: {'a': 0, 'b': 1, 'c': 2, 'd': 3}\n",
    "\n"
   ]
  },
  {
   "cell_type": "code",
   "execution_count": 91,
   "id": "9154bfa0",
   "metadata": {},
   "outputs": [
    {
     "name": "stdout",
     "output_type": "stream",
     "text": [
      "[3, 1, 2, 4, 5]\n"
     ]
    }
   ],
   "source": [
    "# Shuffle the elements of a list randomly\n",
    "my_list = [1, 2, 3, 4, 5]\n",
    "random.shuffle(my_list)\n",
    "print(my_list)\n"
   ]
  },
  {
   "cell_type": "code",
   "execution_count": 92,
   "id": "566969b1",
   "metadata": {},
   "outputs": [
    {
     "name": "stdout",
     "output_type": "stream",
     "text": [
      "[1, 1, 2, 6, 24, 120, 720, 5040, 40320, 362880]\n"
     ]
    }
   ],
   "source": [
    "#. Create a list of the first 10 factorial numbers\n",
    "def factorial(n):\n",
    "    if n == 0:\n",
    "        return 1\n",
    "    return n * factorial(n - 1)\n",
    "\n",
    "factorial_list = [factorial(i) for i in range(10)]\n",
    "print(factorial_list)"
   ]
  },
  {
   "cell_type": "code",
   "execution_count": 93,
   "id": "e99836df",
   "metadata": {},
   "outputs": [
    {
     "name": "stdout",
     "output_type": "stream",
     "text": [
      "True\n"
     ]
    }
   ],
   "source": [
    "#. Check if two lists have at least one element in common.\n",
    "def have_common_elements(list1, list2):\n",
    "    return any(element in list2 for element in list1)\n",
    "\n",
    "list1 = [1, 2, 3]\n",
    "list2 = [3, 4, 5]\n",
    "has_common = have_common_elements(list1, list2)\n",
    "print(has_common)"
   ]
  },
  {
   "cell_type": "code",
   "execution_count": 94,
   "id": "6c8c03f0",
   "metadata": {},
   "outputs": [
    {
     "name": "stdout",
     "output_type": "stream",
     "text": [
      "[]\n"
     ]
    }
   ],
   "source": [
    "#. Remove all elements from a list.\n",
    "my_list = [1, 2, 3, 4, 5]\n",
    "my_list.clear()\n",
    "print(my_list)"
   ]
  },
  {
   "cell_type": "code",
   "execution_count": 95,
   "id": "1590a0c8",
   "metadata": {},
   "outputs": [
    {
     "name": "stdout",
     "output_type": "stream",
     "text": [
      "[1, 0, 3, 0, 5]\n"
     ]
    }
   ],
   "source": [
    "#Replace negative numbers in a list with 0.\n",
    "my_list = [1, -2, 3, -4, 5]\n",
    "my_list = [0 if num < 0 else num for num in my_list]\n",
    "print(my_list)"
   ]
  },
  {
   "cell_type": "code",
   "execution_count": 96,
   "id": "35e2bd7f",
   "metadata": {},
   "outputs": [
    {
     "name": "stdout",
     "output_type": "stream",
     "text": [
      "['This', 'is', 'a', 'sentence.']\n"
     ]
    }
   ],
   "source": [
    "# Convert a string into a list of words\n",
    "sentence = \"This is a sentence.\"\n",
    "word_list = sentence.split()\n",
    "print(word_list)"
   ]
  },
  {
   "cell_type": "code",
   "execution_count": 97,
   "id": "6f3b6de0",
   "metadata": {},
   "outputs": [
    {
     "name": "stdout",
     "output_type": "stream",
     "text": [
      "Hello world\n"
     ]
    }
   ],
   "source": [
    "# Convert a list of words into a string.\n",
    "word_list = [\"Hello\", \"world\"]\n",
    "sentence = \" \".join(word_list)\n",
    "print(sentence)\n"
   ]
  },
  {
   "cell_type": "code",
   "execution_count": 98,
   "id": "34732b77",
   "metadata": {},
   "outputs": [
    {
     "name": "stdout",
     "output_type": "stream",
     "text": [
      "[1, 2, 4, 8, 16]\n"
     ]
    }
   ],
   "source": [
    "# Create a list of the first `n` powers of 2\n",
    "n = 5\n",
    "powers_of_2 = [2 ** i for i in range(n)]\n",
    "print(powers_of_2)"
   ]
  },
  {
   "cell_type": "code",
   "execution_count": 99,
   "id": "4bd300f7",
   "metadata": {},
   "outputs": [
    {
     "name": "stdout",
     "output_type": "stream",
     "text": [
      "banana\n"
     ]
    }
   ],
   "source": [
    "# Find the longest string in a list of strings\n",
    "string_list = [\"apple\", \"banana\", \"cherry\"]\n",
    "longest_string = max(string_list, key=len)\n",
    "print(longest_string)"
   ]
  },
  {
   "cell_type": "code",
   "execution_count": 100,
   "id": "5030eb76",
   "metadata": {},
   "outputs": [
    {
     "name": "stdout",
     "output_type": "stream",
     "text": [
      "apple\n"
     ]
    }
   ],
   "source": [
    "# Find the shortest string in a list of strings.\n",
    "string_list = [\"apple\", \"banana\", \"cherry\"]\n",
    "longest_string = min(string_list, key=len)\n",
    "print(longest_string)\n"
   ]
  },
  {
   "cell_type": "code",
   "execution_count": 101,
   "id": "48984861",
   "metadata": {},
   "outputs": [
    {
     "name": "stdout",
     "output_type": "stream",
     "text": [
      "[0, 1, 3, 6, 10]\n"
     ]
    }
   ],
   "source": [
    "# Create a list of the first `n` triangular numbers\n",
    "n = 5\n",
    "triangular_numbers = [i * (i + 1) // 2 for i in range(n)]\n",
    "print(triangular_numbers)\n"
   ]
  },
  {
   "cell_type": "code",
   "execution_count": 102,
   "id": "6f191d24",
   "metadata": {},
   "outputs": [
    {
     "name": "stdout",
     "output_type": "stream",
     "text": [
      "True\n"
     ]
    }
   ],
   "source": [
    "#. Check if a list contains another list as a subsequence\n",
    "def is_subsequence(sublist, list_to_check):\n",
    "    n = len(sublist)\n",
    "    return any(sublist == list_to_check[i:i + n] for i in range(len(list_to_check) - n + 1))\n",
    "\n",
    "list1 = [1, 2, 3, 4, 5]\n",
    "list2 = [0, 1, 2, 3, 4, 5, 6, 7]\n",
    "is_subseq = is_subsequence(list1, list2)\n",
    "print(is_subseq)"
   ]
  },
  {
   "cell_type": "code",
   "execution_count": 103,
   "id": "39f110c3",
   "metadata": {},
   "outputs": [
    {
     "name": "stdout",
     "output_type": "stream",
     "text": [
      "[1, 4, 3, 2, 5]\n"
     ]
    }
   ],
   "source": [
    "# Swap two elements in a list by their indices\n",
    "def swap_elements(lst, index1, index2):\n",
    "    lst[index1], lst[index2] = lst[index2], lst[index1]\n",
    "my_list = [1, 2, 3, 4, 5]\n",
    "index1 = 1  \n",
    "index2 = 3 \n",
    "swap_elements(my_list, index1, index2)\n",
    "print(my_list)"
   ]
  },
  {
   "cell_type": "code",
   "execution_count": 104,
   "id": "fce60238",
   "metadata": {},
   "outputs": [],
   "source": [
    "#Tuple Based Practice Problem\n"
   ]
  },
  {
   "cell_type": "code",
   "execution_count": 105,
   "id": "beb64a4e",
   "metadata": {},
   "outputs": [
    {
     "name": "stdout",
     "output_type": "stream",
     "text": [
      "(1, 2, 3, 4, 5)\n"
     ]
    },
    {
     "data": {
      "text/plain": [
       "tuple"
      ]
     },
     "execution_count": 105,
     "metadata": {},
     "output_type": "execute_result"
    }
   ],
   "source": [
    "#Create a tuple with integers from 1 to 5.\n",
    "tuple_1 = (1, 2, 3, 4, 5)\n",
    "print(tuple_1)\n",
    "type(tuple_1)"
   ]
  },
  {
   "cell_type": "code",
   "execution_count": 106,
   "id": "6e88a353",
   "metadata": {},
   "outputs": [
    {
     "name": "stdout",
     "output_type": "stream",
     "text": [
      "3\n"
     ]
    }
   ],
   "source": [
    "#access the third element of a tuple.\n",
    "element_3 = tuple_1[2]\n",
    "print(element_3)"
   ]
  },
  {
   "cell_type": "code",
   "execution_count": 107,
   "id": "dfeb9fac",
   "metadata": {},
   "outputs": [
    {
     "name": "stdout",
     "output_type": "stream",
     "text": [
      "5\n"
     ]
    }
   ],
   "source": [
    "#. Find the length of a tuple without using the `len()` function\n",
    "length_tuple = sum(1 for _ in tuple_1)\n",
    "print(length_tuple)"
   ]
  },
  {
   "cell_type": "code",
   "execution_count": 108,
   "id": "fea24a8a",
   "metadata": {},
   "outputs": [
    {
     "name": "stdout",
     "output_type": "stream",
     "text": [
      "1\n"
     ]
    }
   ],
   "source": [
    "#. Count the occurrences of an element in a tuple.\n",
    "count_3 = tuple_1.count(3)\n",
    "print(count_3)"
   ]
  },
  {
   "cell_type": "code",
   "execution_count": 109,
   "id": "24afc325",
   "metadata": {},
   "outputs": [
    {
     "name": "stdout",
     "output_type": "stream",
     "text": [
      "1\n"
     ]
    }
   ],
   "source": [
    "#Find the index of the first occurrence of an element in a tuple\n",
    "\n",
    "# Define a tuple\n",
    "my_tuple = (1, 2, 3, 2, 4, 2, 5)\n",
    "\n",
    "# Find the index of the first occurrence of the element 2\n",
    "index = my_tuple.index(2)\n",
    "\n",
    "print(index)  # Output: 1\n"
   ]
  },
  {
   "cell_type": "code",
   "execution_count": 110,
   "id": "73b5b2bc",
   "metadata": {},
   "outputs": [
    {
     "data": {
      "text/plain": [
       "True"
      ]
     },
     "execution_count": 110,
     "metadata": {},
     "output_type": "execute_result"
    }
   ],
   "source": [
    "# Check if an element exists in a tuple.\n",
    "element_exist = 3 in tuple_1\n",
    "element_exist"
   ]
  },
  {
   "cell_type": "code",
   "execution_count": 111,
   "id": "c00cdb5e",
   "metadata": {},
   "outputs": [
    {
     "name": "stdout",
     "output_type": "stream",
     "text": [
      "[1, 2, 3, 4, 5]\n"
     ]
    }
   ],
   "source": [
    "# Convert a tuple to a list\n",
    "list_from_tuple = list(tuple_1)\n",
    "print(list_from_tuple)"
   ]
  },
  {
   "cell_type": "code",
   "execution_count": 112,
   "id": "762b31c6",
   "metadata": {},
   "outputs": [
    {
     "name": "stdout",
     "output_type": "stream",
     "text": [
      "(1, 2, 3, 4, 5)\n"
     ]
    }
   ],
   "source": [
    "#. Convert a list to a tuple\n",
    "tuple_from_list = tuple(list_from_tuple)\n",
    "print(tuple_from_list)"
   ]
  },
  {
   "cell_type": "code",
   "execution_count": 113,
   "id": "d0775f1f",
   "metadata": {},
   "outputs": [
    {
     "name": "stdout",
     "output_type": "stream",
     "text": [
      "1 2 3 4 5\n"
     ]
    }
   ],
   "source": [
    " #Unpack the elements of a tuple into variables.\n",
    "\n",
    "a, b, c, d, e = tuple_1\n",
    "print(a, b, c, d, e)"
   ]
  },
  {
   "cell_type": "code",
   "execution_count": 114,
   "id": "962babdf",
   "metadata": {},
   "outputs": [
    {
     "name": "stdout",
     "output_type": "stream",
     "text": [
      "(2, 4, 6, 8, 10)\n"
     ]
    }
   ],
   "source": [
    "# Create a tuple of even numbers from 1 to 10.\n",
    "even_tuple = tuple(range(2, 11, 2))\n",
    "print(even_tuple)"
   ]
  },
  {
   "cell_type": "code",
   "execution_count": 115,
   "id": "629d2f55",
   "metadata": {},
   "outputs": [
    {
     "name": "stdout",
     "output_type": "stream",
     "text": [
      "(1, 3, 5, 7, 9)\n"
     ]
    }
   ],
   "source": [
    "#Create a tuple of odd numbers from 1 to 10.\n",
    "even_tuple = tuple(range(1, 11, 2))\n",
    "print(even_tuple)"
   ]
  },
  {
   "cell_type": "code",
   "execution_count": 116,
   "id": "2b17f501",
   "metadata": {},
   "outputs": [
    {
     "name": "stdout",
     "output_type": "stream",
     "text": [
      "(1, 2, 3, 4, 5, 1, 3, 5, 7, 9)\n"
     ]
    }
   ],
   "source": [
    "#Concatenate two tuples.\n",
    "concatenated_tuple = tuple_1 + even_tuple\n",
    "print(concatenated_tuple)"
   ]
  },
  {
   "cell_type": "code",
   "execution_count": 117,
   "id": "f122f3f9",
   "metadata": {},
   "outputs": [
    {
     "name": "stdout",
     "output_type": "stream",
     "text": [
      "(1, 2, 3, 4, 5, 1, 2, 3, 4, 5, 1, 2, 3, 4, 5)\n"
     ]
    }
   ],
   "source": [
    "# Repeat a tuple three times.\n",
    "repeated_tuple = tuple_1 * 3\n",
    "print(repeated_tuple)"
   ]
  },
  {
   "cell_type": "code",
   "execution_count": 118,
   "id": "e35b6cd2",
   "metadata": {},
   "outputs": [
    {
     "name": "stdout",
     "output_type": "stream",
     "text": [
      "True\n"
     ]
    }
   ],
   "source": [
    "# Check if a tuple is empty.\n",
    "empty_tuple = ()\n",
    "is_empty = len(empty_tuple) == 0\n",
    "print(is_empty)"
   ]
  },
  {
   "cell_type": "code",
   "execution_count": 119,
   "id": "dc3caf54",
   "metadata": {},
   "outputs": [
    {
     "ename": "SyntaxError",
     "evalue": "invalid syntax. Perhaps you forgot a comma? (136225084.py, line 3)",
     "output_type": "error",
     "traceback": [
      "\u001b[1;36m  Cell \u001b[1;32mIn[119], line 3\u001b[1;36m\u001b[0m\n\u001b[1;33m    print(n Delete a tuple.nested_tuple)\u001b[0m\n\u001b[1;37m          ^\u001b[0m\n\u001b[1;31mSyntaxError\u001b[0m\u001b[1;31m:\u001b[0m invalid syntax. Perhaps you forgot a comma?\n"
     ]
    }
   ],
   "source": [
    "#Create a nested tuple.\n",
    "nested_tuple = ((1, 2), (3, 4), (5, 6))\n",
    "print(n Delete a tuple.nested_tuple)\n",
    "\n"
   ]
  },
  {
   "cell_type": "code",
   "execution_count": null,
   "id": "e41acb31",
   "metadata": {},
   "outputs": [],
   "source": [
    "#Access the first element of a nested tuple.\n",
    "first_element = nested_tuple[0][0]\n",
    "print(first_element)\n"
   ]
  },
  {
   "cell_type": "code",
   "execution_count": null,
   "id": "2a3318df",
   "metadata": {},
   "outputs": [],
   "source": [
    "#. Create a tuple with a single element.\n",
    "single_element_tuple = (42,)\n",
    "print(single_element_tuple)"
   ]
  },
  {
   "cell_type": "code",
   "execution_count": null,
   "id": "ebf14741",
   "metadata": {},
   "outputs": [],
   "source": [
    "# Compare two tuples.\n",
    "comparison_result = tuple_1 == even_tuple\n",
    "print(comparison_result)"
   ]
  },
  {
   "cell_type": "code",
   "execution_count": null,
   "id": "e45cbcd0",
   "metadata": {},
   "outputs": [],
   "source": [
    "# Delete  tuple\n",
    "del nested_tuple\n",
    "nested_tuple"
   ]
  },
  {
   "cell_type": "code",
   "execution_count": null,
   "id": "526a79a2",
   "metadata": {},
   "outputs": [],
   "source": [
    "#. Slice a tuple\n",
    "sliced_tuple = tuple_1[1:4]\n",
    "print(sliced_tuple)"
   ]
  },
  {
   "cell_type": "code",
   "execution_count": null,
   "id": "ccb0f30b",
   "metadata": {},
   "outputs": [],
   "source": [
    "# Find the maximum value in a tuple.\n",
    "max_value = max(tuple_1)\n",
    "print(max_value)"
   ]
  },
  {
   "cell_type": "code",
   "execution_count": null,
   "id": "8ba50a3e",
   "metadata": {},
   "outputs": [],
   "source": [
    "# Find the minimum value in a tuple.\n",
    "max_value = min(tuple_1)\n",
    "print(max_value)"
   ]
  },
  {
   "cell_type": "code",
   "execution_count": null,
   "id": "729579d0",
   "metadata": {},
   "outputs": [],
   "source": [
    "# Convert a string to a tuple of characters.\n",
    "string_to_tuple = tuple(\"vicky\")\n",
    "print(string_to_tuple)"
   ]
  },
  {
   "cell_type": "code",
   "execution_count": null,
   "id": "a3b6e54a",
   "metadata": {},
   "outputs": [],
   "source": [
    "#convert a tuple of characters to a string.\n",
    "tuple_to_string = \"\".join(string_to_tuple)\n",
    "print(tuple_to_string)"
   ]
  },
  {
   "cell_type": "code",
   "execution_count": null,
   "id": "e0176ae0",
   "metadata": {},
   "outputs": [],
   "source": [
    "#Create a tuple from multiple data types.\n",
    "\n",
    "mixed_tuple = (1, \"hello\", 3.14, True)\n",
    "print(mixed_tuple)"
   ]
  },
  {
   "cell_type": "code",
   "execution_count": null,
   "id": "75630fc2",
   "metadata": {},
   "outputs": [],
   "source": [
    "# Check if two tuples are identical.\n",
    "are_identical = tuple_1 == even_tuple\n",
    "print(are_identical)"
   ]
  },
  {
   "cell_type": "code",
   "execution_count": null,
   "id": "1990d7f5",
   "metadata": {},
   "outputs": [],
   "source": [
    "#Sort the elements of a tuple.\n",
    "sorted_tuple = tuple(sorted(repeated_tuple))\n",
    "print(sorted_tuple)"
   ]
  },
  {
   "cell_type": "code",
   "execution_count": null,
   "id": "9104d19e",
   "metadata": {},
   "outputs": [],
   "source": [
    "# Convert a tuple of integers to a tuple of strings.\n",
    "int_tuple = (1, 2, 3)\n",
    "str_tuple = tuple(str(x) for x in int_tuple)\n",
    "print(str_tuple)"
   ]
  },
  {
   "cell_type": "code",
   "execution_count": null,
   "id": "aa928833",
   "metadata": {},
   "outputs": [],
   "source": [
    "#Convert a tuple of strings to a tuple of integers.\n",
    "str_tuple  = ('1', '2', '3')\n",
    "int_tuple = tuple(int(x) for x in str_tuple)\n",
    "print(int_tuple)"
   ]
  },
  {
   "cell_type": "code",
   "execution_count": null,
   "id": "9fa783b5",
   "metadata": {},
   "outputs": [],
   "source": [
    "# Merge two tuples\n",
    "merged_tuple = tuple_1 + even_tuple\n",
    "print(merged_tuple)"
   ]
  },
  {
   "cell_type": "code",
   "execution_count": null,
   "id": "ee790609",
   "metadata": {},
   "outputs": [],
   "source": [
    "# Flatten a nested tuple\n",
    "nested_tuple = ((1, 2), (3, 4), (5, 6))\n",
    "flattened_tuple = tuple(x for sub_tuple in nested_tuple for x in sub_tuple)\n",
    "print(flattened_tuple)\n"
   ]
  },
  {
   "cell_type": "code",
   "execution_count": null,
   "id": "87b9d8d7",
   "metadata": {},
   "outputs": [],
   "source": [
    "# Create a tuple of the first 5 prime numbers\n",
    "prime_tuple = (2, 3, 5, 7, 11)\n",
    "print(prime_tuple)"
   ]
  },
  {
   "cell_type": "code",
   "execution_count": null,
   "id": "f6139ebf",
   "metadata": {},
   "outputs": [],
   "source": [
    "# Check if a tuple is a palindrome.\n",
    "is_palindrome = tuple_1 == tuple_1[::-1]\n",
    "print(is_palindrome)"
   ]
  },
  {
   "cell_type": "code",
   "execution_count": null,
   "id": "f6d8d56a",
   "metadata": {},
   "outputs": [],
   "source": [
    "#. Create a tuple of squares of numbers from 1 to 5.\n",
    "squares_tuple = tuple(x ** 2 for x in range(1, 6))\n",
    "print(squares_tuple)"
   ]
  },
  {
   "cell_type": "code",
   "execution_count": null,
   "id": "17863291",
   "metadata": {},
   "outputs": [],
   "source": [
    "#Filter out all even numbers from a tuple.\n",
    "filtered_tuple = tuple(x for x in tuple_1 if x % 2 != 0)\n",
    "print(filtered_tuple)"
   ]
  },
  {
   "cell_type": "code",
   "execution_count": null,
   "id": "b39f92d6",
   "metadata": {},
   "outputs": [],
   "source": [
    "#Multiply all elements in a tuple by 2.\n",
    "multiplied_tuple = tuple(x * 2 for x in tuple_1)\n",
    "print(multiplied_tuple)"
   ]
  },
  {
   "cell_type": "code",
   "execution_count": null,
   "id": "1b44293b",
   "metadata": {},
   "outputs": [],
   "source": [
    "#Create a tuple of random numbers.\n",
    "import random\n",
    "random_tuple = tuple(random.randint(1, 10) for _ in range(5))\n",
    "print(random_tuple)"
   ]
  },
  {
   "cell_type": "code",
   "execution_count": null,
   "id": "e7adeb82",
   "metadata": {},
   "outputs": [],
   "source": [
    "# Check if a tuple is sorted.\n",
    "is_sorted = all(tuple_1[i] <= tuple_1[i + 1] for i in range(len(tuple_1) - 1))\n",
    "print(is_sorted)"
   ]
  },
  {
   "cell_type": "code",
   "execution_count": null,
   "id": "a4c95c2c",
   "metadata": {},
   "outputs": [],
   "source": [
    "#Rotate a tuple to the left by `n` positions.\n",
    "n = 2\n",
    "rotated_left_tuple = tuple_1[n:] + tuple_1[:n]\n",
    "print(rotated_left_tuple)"
   ]
  },
  {
   "cell_type": "code",
   "execution_count": null,
   "id": "785baa52",
   "metadata": {},
   "outputs": [],
   "source": [
    "# Rotate a tuple to the right by `n` positions.\n",
    "rotated_right_tuple = tuple_1[-n:] + tuple_1[:-n]\n",
    "print(rotated_right_tuple)\n"
   ]
  },
  {
   "cell_type": "code",
   "execution_count": null,
   "id": "ef1d52e3",
   "metadata": {},
   "outputs": [],
   "source": [
    "# Create a tuple of the first 5 Fibonacci numbers.\n",
    "fibonacci_tuple = (0, 1)\n",
    "while len(fibonacci_tuple) < 5:\n",
    "    next_fibonacci = fibonacci_tuple[-1] + fibonacci_tuple[-2]\n",
    "    fibonacci_tuple += (next_fibonacci,)\n",
    "print(fibonacci_tuple)"
   ]
  },
  {
   "cell_type": "code",
   "execution_count": null,
   "id": "e7b0427b",
   "metadata": {},
   "outputs": [],
   "source": [
    "# Create a tuple from user input\n",
    "user_input = input(\"Enter elements separated by commas: \")\n",
    "user_tuple = tuple(map(int, user_input.split(',')))\n",
    "print(user_tuple)\n"
   ]
  },
  {
   "cell_type": "code",
   "execution_count": null,
   "id": "3a96ef44",
   "metadata": {},
   "outputs": [],
   "source": [
    "#. Swap two elements in a tuple.\n",
    "tuple_to_swap = (1, 2, 3, 4, 5)\n",
    "swap_indices = 1, 3\n",
    "tuple_list = list(tuple_to_swap)\n",
    "tuple_list[swap_indices[0]], tuple_list[swap_indices[1]] = tuple_list[swap_indices[1]], tuple_list[swap_indices[0]]\n",
    "swapped_tuple = tuple(tuple_list)\n",
    "print(swapped_tuple)"
   ]
  },
  {
   "cell_type": "code",
   "execution_count": 120,
   "id": "dabf247d",
   "metadata": {},
   "outputs": [
    {
     "name": "stdout",
     "output_type": "stream",
     "text": [
      "(5, 4, 3, 2, 1)\n"
     ]
    }
   ],
   "source": [
    "# Reverse the elements of a tuple.\n",
    "reversed_tuple = tuple_1[::-1]\n",
    "print(reversed_tuple)"
   ]
  },
  {
   "cell_type": "code",
   "execution_count": 121,
   "id": "ffe0e202",
   "metadata": {},
   "outputs": [
    {
     "name": "stdout",
     "output_type": "stream",
     "text": [
      "(1, 2, 4, 8, 16)\n"
     ]
    }
   ],
   "source": [
    "# Create a tuple of the first `n` powers of 2.\n",
    "n = 5\n",
    "powers_of_2_tuple = tuple(2 ** i for i in range(n))\n",
    "print(powers_of_2_tuple)"
   ]
  },
  {
   "cell_type": "code",
   "execution_count": 122,
   "id": "44de1132",
   "metadata": {},
   "outputs": [
    {
     "name": "stdout",
     "output_type": "stream",
     "text": [
      "elderberry\n"
     ]
    }
   ],
   "source": [
    "# Find the longest string in a tuple of strings.\n",
    "string_tuple = (\"apple\", \"banana\", \"cherry\", \"date\", \"elderberry\")\n",
    "longest_string = max(string_tuple, key=len)\n",
    "print(longest_string)"
   ]
  },
  {
   "cell_type": "code",
   "execution_count": 123,
   "id": "d97131b8",
   "metadata": {},
   "outputs": [
    {
     "name": "stdout",
     "output_type": "stream",
     "text": [
      "date\n"
     ]
    }
   ],
   "source": [
    "#Find the shortest string in a tuple of strings\n",
    "shortest_string = min(string_tuple, key=len)\n",
    "print(shortest_string)"
   ]
  },
  {
   "cell_type": "code",
   "execution_count": 124,
   "id": "ae9690bb",
   "metadata": {},
   "outputs": [
    {
     "name": "stdout",
     "output_type": "stream",
     "text": [
      "(1, 3, 6, 10, 15)\n"
     ]
    }
   ],
   "source": [
    "# Create a tuple of the first `n` triangular numbers.\n",
    "n = 5\n",
    "triangular_numbers_tuple = tuple((i * (i + 1)) // 2 for i in range(1, n + 1))\n",
    "print(triangular_numbers_tuple)"
   ]
  },
  {
   "cell_type": "code",
   "execution_count": 125,
   "id": "6b296b24",
   "metadata": {},
   "outputs": [
    {
     "name": "stdout",
     "output_type": "stream",
     "text": [
      "True\n"
     ]
    }
   ],
   "source": [
    "# Check if a tuple contains another tuple as a subsequence.\n",
    "sub_tuple = (3, 4)\n",
    "contains_subsequence = any(sub_tuple == tuple_1[i:i+len(sub_tuple)] for i in range(len(tuple_1) - len(sub_tuple) + 1))\n",
    "print(contains_subsequence)"
   ]
  },
  {
   "cell_type": "code",
   "execution_count": 127,
   "id": "5650b989",
   "metadata": {},
   "outputs": [
    {
     "name": "stdout",
     "output_type": "stream",
     "text": [
      "(1, 0, 1, 0, 1)\n"
     ]
    }
   ],
   "source": [
    "# Create a tuple of alternating 1s and 0s of length `n`n = 8\n",
    "alternating_tuple = tuple(1 if i % 2 == 0 else 0 for i in range(n))\n",
    "print(alternating_tuple)"
   ]
  },
  {
   "cell_type": "markdown",
   "id": "55f9dd6a",
   "metadata": {},
   "source": [
    "# SET BASED PRACTICE PROBLEM "
   ]
  },
  {
   "cell_type": "code",
   "execution_count": 128,
   "id": "263443c5",
   "metadata": {},
   "outputs": [
    {
     "name": "stdout",
     "output_type": "stream",
     "text": [
      "{1, 2, 3, 4, 5}\n"
     ]
    }
   ],
   "source": [
    "# Create a set with integers from 1 to 5.\n",
    "my_set = set(range(1, 6))\n",
    "print(my_set)"
   ]
  },
  {
   "cell_type": "code",
   "execution_count": 130,
   "id": "663a756b",
   "metadata": {},
   "outputs": [],
   "source": [
    "#Add an element to a set.\n",
    "\n",
    "my_set.add(6)"
   ]
  },
  {
   "cell_type": "code",
   "execution_count": 131,
   "id": "07e6fd48",
   "metadata": {},
   "outputs": [
    {
     "data": {
      "text/plain": [
       "{1, 2, 3, 4, 5, 6}"
      ]
     },
     "execution_count": 131,
     "metadata": {},
     "output_type": "execute_result"
    }
   ],
   "source": [
    "my_set "
   ]
  },
  {
   "cell_type": "code",
   "execution_count": 132,
   "id": "8c213092",
   "metadata": {},
   "outputs": [
    {
     "name": "stdout",
     "output_type": "stream",
     "text": [
      "{1, 3, 4, 5, 6}\n"
     ]
    }
   ],
   "source": [
    "# Remove an element from a set.\n",
    "my_set.remove(2)\n",
    "print(my_set)"
   ]
  },
  {
   "cell_type": "code",
   "execution_count": 133,
   "id": "97ac2a02",
   "metadata": {},
   "outputs": [
    {
     "name": "stdout",
     "output_type": "stream",
     "text": [
      "True\n"
     ]
    }
   ],
   "source": [
    "# Check if an element exists in a set.\n",
    "element_exists = 3 in my_set\n",
    "print(element_exists)"
   ]
  },
  {
   "cell_type": "code",
   "execution_count": 135,
   "id": "5ed5727e",
   "metadata": {},
   "outputs": [
    {
     "name": "stdout",
     "output_type": "stream",
     "text": [
      "5\n"
     ]
    }
   ],
   "source": [
    " #Find the length of a set without using the `len()` function.\n",
    "set_length = sum(1 for _ in my_set)\n",
    "print(set_length)"
   ]
  },
  {
   "cell_type": "code",
   "execution_count": 136,
   "id": "dde65565",
   "metadata": {},
   "outputs": [
    {
     "name": "stdout",
     "output_type": "stream",
     "text": [
      "set()\n"
     ]
    }
   ],
   "source": [
    "#Clear all elements from a set.\n",
    "my_set.clear()\n",
    "print(my_set)"
   ]
  },
  {
   "cell_type": "code",
   "execution_count": 137,
   "id": "cd45e234",
   "metadata": {},
   "outputs": [
    {
     "name": "stdout",
     "output_type": "stream",
     "text": [
      "{2, 4, 6, 8, 10}\n"
     ]
    }
   ],
   "source": [
    "#. Create a set of even numbers from 1 to 10\n",
    "even_set = set(i for i in range(2, 11, 2))\n",
    "print(even_set)\n"
   ]
  },
  {
   "cell_type": "code",
   "execution_count": 138,
   "id": "ddcb455a",
   "metadata": {},
   "outputs": [
    {
     "name": "stdout",
     "output_type": "stream",
     "text": [
      "{1, 3, 5, 7, 9}\n"
     ]
    }
   ],
   "source": [
    "#Create a set of odd numbers from 1 to 10.\n",
    "odd_set = set(i for i in range(1, 11, 2))\n",
    "print(odd_set)\n",
    "\n"
   ]
  },
  {
   "cell_type": "code",
   "execution_count": 139,
   "id": "ded176ac",
   "metadata": {},
   "outputs": [
    {
     "name": "stdout",
     "output_type": "stream",
     "text": [
      "{1, 2, 3, 4, 5, 6, 7, 8, 9}\n"
     ]
    }
   ],
   "source": [
    "#Find the union of two sets\n",
    "set1 = set(range(1, 6))\n",
    "set2 = set(range(5, 10))\n",
    "union_set = set1.union(set2)\n",
    "print(union_set)"
   ]
  },
  {
   "cell_type": "code",
   "execution_count": 140,
   "id": "07d94fbf",
   "metadata": {},
   "outputs": [
    {
     "name": "stdout",
     "output_type": "stream",
     "text": [
      "{5}\n"
     ]
    }
   ],
   "source": [
    "\n",
    "# Find the intersection of two sets\n",
    "intersection_set = set1.intersection(set2)\n",
    "print(intersection_set)"
   ]
  },
  {
   "cell_type": "code",
   "execution_count": 142,
   "id": "de87479c",
   "metadata": {},
   "outputs": [
    {
     "name": "stdout",
     "output_type": "stream",
     "text": [
      "{1, 2, 3, 4}\n"
     ]
    }
   ],
   "source": [
    "# Find the difference between two sets\n",
    "difference_set = set1.difference(set2)\n",
    "print(difference_set)\n"
   ]
  },
  {
   "cell_type": "code",
   "execution_count": 144,
   "id": "cb014bf5",
   "metadata": {},
   "outputs": [
    {
     "name": "stdout",
     "output_type": "stream",
     "text": [
      "False\n"
     ]
    }
   ],
   "source": [
    "# Check if a set is a subset of another set\n",
    "is_subset = set1.issubset(set2)\n",
    "print(is_subset)"
   ]
  },
  {
   "cell_type": "code",
   "execution_count": 145,
   "id": "cca4c3a2",
   "metadata": {},
   "outputs": [
    {
     "name": "stdout",
     "output_type": "stream",
     "text": [
      "False\n"
     ]
    }
   ],
   "source": [
    "# Check if a set is a superset of another set\n",
    "is_subset = set1.issuperset(set2)\n",
    "print(is_subset)"
   ]
  },
  {
   "cell_type": "code",
   "execution_count": 146,
   "id": "da22e2a4",
   "metadata": {},
   "outputs": [
    {
     "name": "stdout",
     "output_type": "stream",
     "text": [
      "{1, 2, 3, 4, 5}\n"
     ]
    }
   ],
   "source": [
    "# Create a set from a list.\n",
    "list_to_set = set(set1)\n",
    "print(list_to_set)"
   ]
  },
  {
   "cell_type": "code",
   "execution_count": 148,
   "id": "10e64aad",
   "metadata": {},
   "outputs": [
    {
     "name": "stdout",
     "output_type": "stream",
     "text": [
      "[5, 6, 7, 8, 9]\n"
     ]
    },
    {
     "data": {
      "text/plain": [
       "list"
      ]
     },
     "execution_count": 148,
     "metadata": {},
     "output_type": "execute_result"
    }
   ],
   "source": [
    "#. Convert a set to a list.\n",
    "set_to_list = list(set2)\n",
    "print(set_to_list)\n",
    "type(set_to_list)"
   ]
  },
  {
   "cell_type": "code",
   "execution_count": 149,
   "id": "95efeea8",
   "metadata": {},
   "outputs": [
    {
     "name": "stdout",
     "output_type": "stream",
     "text": [
      "5\n"
     ]
    }
   ],
   "source": [
    "# Remove a random element from a set.\n",
    "random_element = set2.pop()\n",
    "print(random_element)"
   ]
  },
  {
   "cell_type": "code",
   "execution_count": 150,
   "id": "9a68fe7f",
   "metadata": {},
   "outputs": [
    {
     "name": "stdout",
     "output_type": "stream",
     "text": [
      "{2, 3, 4, 5}\n"
     ]
    }
   ],
   "source": [
    "# Pop an element from a set\n",
    "element_to_pop = 1\n",
    "set1.discard(element_to_pop)\n",
    "print(set1)"
   ]
  },
  {
   "cell_type": "code",
   "execution_count": 152,
   "id": "f95d9119",
   "metadata": {},
   "outputs": [
    {
     "name": "stdout",
     "output_type": "stream",
     "text": [
      "True\n"
     ]
    }
   ],
   "source": [
    "#Check if two sets have no elements in common.\n",
    "no_common_elements = set1.isdisjoint(set2)\n",
    "print(no_common_elements)"
   ]
  },
  {
   "cell_type": "code",
   "execution_count": 153,
   "id": "f574bd33",
   "metadata": {},
   "outputs": [
    {
     "name": "stdout",
     "output_type": "stream",
     "text": [
      "{2, 3, 4, 5, 6, 7, 8, 9}\n"
     ]
    }
   ],
   "source": [
    "#. Find the symmetric difference between two sets.\n",
    "symmetric_difference = set1.symmetric_difference(set2)\n",
    "print(symmetric_difference)"
   ]
  },
  {
   "cell_type": "code",
   "execution_count": 154,
   "id": "64ebf2f5",
   "metadata": {},
   "outputs": [
    {
     "name": "stdout",
     "output_type": "stream",
     "text": [
      "{2, 3, 4, 5, 6, 7, 8, 9}\n"
     ]
    }
   ],
   "source": [
    "#Update a set with elements from another set.\n",
    "set1.update(set2)\n",
    "print(set1)"
   ]
  },
  {
   "cell_type": "code",
   "execution_count": 156,
   "id": "42a97848",
   "metadata": {},
   "outputs": [
    {
     "name": "stdout",
     "output_type": "stream",
     "text": [
      "{2, 3, 5, 7, 11}\n"
     ]
    }
   ],
   "source": [
    "#Create a set of the first 5 prime numbers.\n",
    "prime_set = {2, 3, 5, 7, 11}\n",
    "print(prime_set)"
   ]
  },
  {
   "cell_type": "code",
   "execution_count": 157,
   "id": "48b03325",
   "metadata": {},
   "outputs": [
    {
     "name": "stdout",
     "output_type": "stream",
     "text": [
      "False\n"
     ]
    }
   ],
   "source": [
    "#Check if two sets are identical.\n",
    "are_identical = set1 == set2\n",
    "print(are_identical)"
   ]
  },
  {
   "cell_type": "code",
   "execution_count": 158,
   "id": "5216d72f",
   "metadata": {},
   "outputs": [
    {
     "name": "stdout",
     "output_type": "stream",
     "text": [
      "frozenset({8, 9, 6, 7})\n"
     ]
    }
   ],
   "source": [
    "# Create a frozen set.\n",
    "frozen_set = frozenset(set2)\n",
    "print(frozen_set)"
   ]
  },
  {
   "cell_type": "code",
   "execution_count": 159,
   "id": "4a9a0c24",
   "metadata": {},
   "outputs": [
    {
     "name": "stdout",
     "output_type": "stream",
     "text": [
      "False\n"
     ]
    }
   ],
   "source": [
    "# Check if a set is disjoint with another set.\n",
    "are_disjoint = set1.isdisjoint(set2)\n",
    "print(are_disjoint)"
   ]
  },
  {
   "cell_type": "code",
   "execution_count": 160,
   "id": "4cc65636",
   "metadata": {},
   "outputs": [
    {
     "name": "stdout",
     "output_type": "stream",
     "text": [
      "{1, 4, 9, 16, 25}\n"
     ]
    }
   ],
   "source": [
    "# Create a set of squares of numbers from 1 to 5.\n",
    "squares_set = {x ** 2 for x in range(1, 6)}\n",
    "print(squares_set)"
   ]
  },
  {
   "cell_type": "code",
   "execution_count": 161,
   "id": "b1bb791f",
   "metadata": {},
   "outputs": [
    {
     "name": "stdout",
     "output_type": "stream",
     "text": [
      "{9, 3, 5, 7}\n"
     ]
    }
   ],
   "source": [
    "#Filter out all even numbers from a set.\n",
    "filtered_set = {x for x in set1 if x % 2 != 0}\n",
    "print(filtered_set)"
   ]
  },
  {
   "cell_type": "code",
   "execution_count": 162,
   "id": "d87f14c3",
   "metadata": {},
   "outputs": [
    {
     "name": "stdout",
     "output_type": "stream",
     "text": [
      "{4, 6, 8, 10, 12, 14, 16, 18}\n"
     ]
    }
   ],
   "source": [
    "# Multiply all elements in a set by 2.\n",
    "doubled_set = {x * 2 for x in set1}\n",
    "print(doubled_set)"
   ]
  },
  {
   "cell_type": "code",
   "execution_count": 163,
   "id": "b51c19d3",
   "metadata": {},
   "outputs": [
    {
     "name": "stdout",
     "output_type": "stream",
     "text": [
      "{98, 4, 69, 71, 73, 79, 52, 53, 91}\n"
     ]
    }
   ],
   "source": [
    "#. Create a set of random numbers\n",
    "import random \n",
    "random_set = {random.randint(1, 100) for _ in range(10)}\n",
    "print(random_set)"
   ]
  },
  {
   "cell_type": "code",
   "execution_count": 164,
   "id": "6ba72267",
   "metadata": {},
   "outputs": [
    {
     "name": "stdout",
     "output_type": "stream",
     "text": [
      "False\n"
     ]
    }
   ],
   "source": [
    "# Check if a set is empty\n",
    "is_empty = len(set2) == 0\n",
    "print(is_empty)"
   ]
  },
  {
   "cell_type": "code",
   "execution_count": 165,
   "id": "e9ccccec",
   "metadata": {},
   "outputs": [
    {
     "name": "stdout",
     "output_type": "stream",
     "text": [
      "{frozenset({3, 4}), frozenset({1, 2})}\n"
     ]
    }
   ],
   "source": [
    "# Create a nested set (hint: use frozenset).\n",
    "nested_set = {frozenset({1, 2}), frozenset({3, 4})}\n",
    "print(nested_set)"
   ]
  },
  {
   "cell_type": "code",
   "execution_count": 166,
   "id": "4a2742aa",
   "metadata": {},
   "outputs": [
    {
     "name": "stdout",
     "output_type": "stream",
     "text": [
      "{2, 4, 5, 6, 7, 8, 9}\n"
     ]
    }
   ],
   "source": [
    "# Remove an element from a set using the discard method.\n",
    "element_to_discard = 3\n",
    "set1.discard(element_to_discard)\n",
    "print(set1)"
   ]
  },
  {
   "cell_type": "code",
   "execution_count": 167,
   "id": "357357c6",
   "metadata": {},
   "outputs": [
    {
     "name": "stdout",
     "output_type": "stream",
     "text": [
      "False True False\n"
     ]
    }
   ],
   "source": [
    "#. Compare two sets.\n",
    "is_subset = set1.issubset(set2)\n",
    "is_superset = set1.issuperset(set2)\n",
    "is_equal = set1 == set2\n",
    "print(is_subset, is_superset, is_equal)"
   ]
  },
  {
   "cell_type": "code",
   "execution_count": 168,
   "id": "7852b143",
   "metadata": {},
   "outputs": [
    {
     "name": "stdout",
     "output_type": "stream",
     "text": [
      "{'g', 'i', 'e', 'h', 'a', 'v', 'n', 'w', 's', 'r'}\n"
     ]
    }
   ],
   "source": [
    "# Create a set from a string.\n",
    "string_to_set = set(\"vigneshwaran\")\n",
    "print(string_to_set)"
   ]
  },
  {
   "cell_type": "code",
   "execution_count": 169,
   "id": "3e9c377a",
   "metadata": {},
   "outputs": [
    {
     "name": "stdout",
     "output_type": "stream",
     "text": [
      "{1, 2, 3, 4, 5}\n"
     ]
    }
   ],
   "source": [
    "#. Convert a set of strings to a set of integers\n",
    "string_set = {\"1\", \"2\", \"3\", \"4\", \"5\"}\n",
    "int_set = {int(x) for x in string_set}\n",
    "print(int_set)"
   ]
  },
  {
   "cell_type": "code",
   "execution_count": 170,
   "id": "24148952",
   "metadata": {},
   "outputs": [
    {
     "name": "stdout",
     "output_type": "stream",
     "text": [
      "{'5', '3', '4', '2', '1'}\n"
     ]
    }
   ],
   "source": [
    "# Convert a set of integers to a set of strings.\n",
    "int_set = {1, 2, 3, 4, 5}\n",
    "string_set = {str(x) for x in int_set}\n",
    "print(string_set)\n"
   ]
  },
  {
   "cell_type": "code",
   "execution_count": 171,
   "id": "e0fa8c09",
   "metadata": {},
   "outputs": [
    {
     "name": "stdout",
     "output_type": "stream",
     "text": [
      "{1, 2, 3, 4, 5}\n"
     ]
    }
   ],
   "source": [
    "# Create a set from a tuple\n",
    "tuple_to_set = set(int_set)\n",
    "print(tuple_to_set)"
   ]
  },
  {
   "cell_type": "code",
   "execution_count": 172,
   "id": "635d8201",
   "metadata": {},
   "outputs": [
    {
     "name": "stdout",
     "output_type": "stream",
     "text": [
      "(6, 7, 8, 9)\n"
     ]
    }
   ],
   "source": [
    "# Convert a set to a tuple.\n",
    "set_to_tuple = tuple(set2)\n",
    "print(set_to_tuple)"
   ]
  },
  {
   "cell_type": "code",
   "execution_count": 173,
   "id": "51e14866",
   "metadata": {},
   "outputs": [
    {
     "name": "stdout",
     "output_type": "stream",
     "text": [
      "9\n"
     ]
    }
   ],
   "source": [
    "# Find the maximum value in a set.\n",
    "max_value = max(set1)\n",
    "print(max_value)"
   ]
  },
  {
   "cell_type": "code",
   "execution_count": 174,
   "id": "1f263172",
   "metadata": {},
   "outputs": [
    {
     "data": {
      "text/plain": [
       "6"
      ]
     },
     "execution_count": 174,
     "metadata": {},
     "output_type": "execute_result"
    }
   ],
   "source": [
    "# Find the minimum value in a set.\n",
    "min_value = min(set2)\n",
    "min_value"
   ]
  },
  {
   "cell_type": "code",
   "execution_count": 175,
   "id": "671f5609",
   "metadata": {},
   "outputs": [
    {
     "name": "stdout",
     "output_type": "stream",
     "text": [
      "Enter elements separated by spaces: xmzdtmzdmdmdzmzd\n",
      "{'xmzdtmzdmdmdzmzd'}\n"
     ]
    }
   ],
   "source": [
    "\n",
    "# Create a set from user input\n",
    "input_set = set(input(\"Enter elements separated by spaces: \").split())\n",
    "print(input_set)"
   ]
  },
  {
   "cell_type": "code",
   "execution_count": 176,
   "id": "1f3c5b60",
   "metadata": {},
   "outputs": [
    {
     "name": "stdout",
     "output_type": "stream",
     "text": [
      "False\n"
     ]
    }
   ],
   "source": [
    "#Check if the intersection of two sets is empty.\n",
    "intersection_empty = set1.isdisjoint(set2)\n",
    "print(intersection_empty)"
   ]
  },
  {
   "cell_type": "code",
   "execution_count": 177,
   "id": "45d16a39",
   "metadata": {},
   "outputs": [
    {
     "name": "stdout",
     "output_type": "stream",
     "text": [
      "0 1 1 2 3 5 8 "
     ]
    }
   ],
   "source": [
    "# Create a set of the first 5 Fibonacci numbers.\n",
    "def fibonacci_numbers(num):\n",
    "\tif num == 0:\n",
    "\t\treturn 0\n",
    "\telif num == 1:\n",
    "\t\treturn 1\n",
    "\telse:\n",
    "\t\treturn fibonacci_numbers(num-2)+fibonacci_numbers(num-1)\n",
    "n = 7\n",
    "for i in range(0, n):\n",
    "\tprint(fibonacci_numbers(i), end=\" \")"
   ]
  },
  {
   "cell_type": "code",
   "execution_count": 178,
   "id": "32bffd55",
   "metadata": {},
   "outputs": [
    {
     "name": "stdout",
     "output_type": "stream",
     "text": [
      "[1, 2, 3, 4, 5]\n"
     ]
    }
   ],
   "source": [
    "# Remove duplicates from a list using sets\n",
    "list_with_duplicates = [1, 2, 2, 3, 4, 4, 5]\n",
    "deduplicated_list = list(set(list_with_duplicates))\n",
    "print(deduplicated_list)"
   ]
  },
  {
   "cell_type": "code",
   "execution_count": 179,
   "id": "7e0f8ea5",
   "metadata": {},
   "outputs": [
    {
     "name": "stdout",
     "output_type": "stream",
     "text": [
      "[1, 2, 3, 4, 5]\n"
     ]
    }
   ],
   "source": [
    "#list_with_duplicates = [1, 2, 2, 3, 4, 4, 5]\n",
    "deduplicated_list = list(set(list_with_duplicates))\n",
    "print(deduplicated_list)"
   ]
  },
  {
   "cell_type": "code",
   "execution_count": 181,
   "id": "e3d00744",
   "metadata": {},
   "outputs": [
    {
     "name": "stdout",
     "output_type": "stream",
     "text": [
      "{1, 2, 4, 8, 16}\n"
     ]
    }
   ],
   "source": [
    "# Create a set of the first `n` powers of 2.\n",
    "def powers_of_two(n):\n",
    "    return {2**i for i in range(n)}\n",
    "\n",
    "# Example usage:\n",
    "n = 5\n",
    "print(powers_of_two(n))\n"
   ]
  },
  {
   "cell_type": "code",
   "execution_count": 182,
   "id": "b219ad23",
   "metadata": {},
   "outputs": [
    {
     "name": "stdout",
     "output_type": "stream",
     "text": [
      "False\n"
     ]
    }
   ],
   "source": [
    "#Find the common elements between a set and a list.\n",
    "same_elements = set1 == set2\n",
    "print(same_elements)"
   ]
  },
  {
   "cell_type": "code",
   "execution_count": 183,
   "id": "78e7345e",
   "metadata": {},
   "outputs": [
    {
     "name": "stdout",
     "output_type": "stream",
     "text": [
      "{1, 3, 6, 10, 15}\n"
     ]
    }
   ],
   "source": [
    "#Create a set of the first `n` triangular numbers.\n",
    "n = 5\n",
    "triangular_numbers_set = {(i * (i + 1)) // 2 for i in range(1, n + 1)}\n",
    "print(triangular_numbers_set)"
   ]
  },
  {
   "cell_type": "code",
   "execution_count": 184,
   "id": "d150c430",
   "metadata": {},
   "outputs": [
    {
     "name": "stdout",
     "output_type": "stream",
     "text": [
      "{2, 4, 5, 6, 7, 8, 9}\n"
     ]
    }
   ],
   "source": [
    "#Check if a set contains another set as a subset.\n",
    "common_elements = set1.intersection(set1)\n",
    "print(common_elements)"
   ]
  },
  {
   "cell_type": "code",
   "execution_count": 185,
   "id": "8d818bd3",
   "metadata": {},
   "outputs": [
    {
     "name": "stdout",
     "output_type": "stream",
     "text": [
      "{0, 1}\n"
     ]
    }
   ],
   "source": [
    "#Create a set of alternating 1s and 0s of length `n`.\n",
    "n = 8\n",
    "alternating_set = {1 if i % 2 == 0 else 0 for i in range(n)}\n",
    "print(alternating_set)"
   ]
  },
  {
   "cell_type": "code",
   "execution_count": 186,
   "id": "98a35c60",
   "metadata": {},
   "outputs": [
    {
     "name": "stdout",
     "output_type": "stream",
     "text": [
      "{2, 4, 5, 6, 7, 8, 9, 12, 13, 14, 15, 16}\n"
     ]
    }
   ],
   "source": [
    "# Merge multiple sets into one.\\\n",
    "set3 = {12,13,14,15,16}\n",
    "merged_set = set1.union(set2, set3)\n",
    "print(merged_set)"
   ]
  },
  {
   "cell_type": "code",
   "execution_count": null,
   "id": "5c370cd1",
   "metadata": {},
   "outputs": [],
   "source": []
  }
 ],
 "metadata": {
  "kernelspec": {
   "display_name": "Python 3 (ipykernel)",
   "language": "python",
   "name": "python3"
  },
  "language_info": {
   "codemirror_mode": {
    "name": "ipython",
    "version": 3
   },
   "file_extension": ".py",
   "mimetype": "text/x-python",
   "name": "python",
   "nbconvert_exporter": "python",
   "pygments_lexer": "ipython3",
   "version": "3.11.5"
  }
 },
 "nbformat": 4,
 "nbformat_minor": 5
}
