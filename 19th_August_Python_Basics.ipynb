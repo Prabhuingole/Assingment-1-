{
 "cells": [
  {
   "cell_type": "code",
   "execution_count": 7,
   "id": "3e678998",
   "metadata": {},
   "outputs": [
    {
     "data": {
      "text/plain": [
       "(10, 5)"
      ]
     },
     "execution_count": 7,
     "metadata": {},
     "output_type": "execute_result"
    }
   ],
   "source": [
    "#TOPIC: Python Basics Variable\n",
    "''' Q1) Declare two variables, `x` and `y`, and assign them integer values. Swap the\n",
    "values of these variables without using any temporary variable.'''\n",
    "\n",
    "X = 5\n",
    "Y = 10 \n",
    "\n",
    "X = X + Y\n",
    "Y = X - Y\n",
    "X = X - Y\n",
    "\n",
    "X,Y"
   ]
  },
  {
   "cell_type": "code",
   "execution_count": 9,
   "id": "60d96b17",
   "metadata": {},
   "outputs": [
    {
     "name": "stdout",
     "output_type": "stream",
     "text": [
      "Enter the Lenght of Rectangle 5\n",
      "Enter the Breath of Rectangle 6\n",
      "30 Is Area of Rectangle   \n"
     ]
    }
   ],
   "source": [
    "'''Q2). Create a program that calculates the area of a rectangle. Take the length and\n",
    "width as inputs from the user and store them in variables. Calculate and\n",
    "display the area.'''\n",
    "\n",
    "l = int(input(\"Enter the Lenght of Rectangle \"))\n",
    "B = int(input(\"Enter the Breath of Rectangle \"))\n",
    "\n",
    "Area = l * B\n",
    "print(Area,\"Is Area of Rectangle\")\n"
   ]
  },
  {
   "cell_type": "code",
   "execution_count": 13,
   "id": "953698ff",
   "metadata": {},
   "outputs": [
    {
     "name": "stdout",
     "output_type": "stream",
     "text": [
      "Enter the Temparature in Celsius40\n",
      "104.0 is Temparature in Fahrenheit\n"
     ]
    }
   ],
   "source": [
    "'''Q3). Write a Python program that converts temperatures from Celsius to\n",
    "Fahrenheit. Take the temperature in Celsius as input, store it in a variable,\n",
    "convert it to Fahrenheit, and display the result.'''\n",
    "\n",
    "T = int(input(\"Enter the Temparature in Celsius\"))\n",
    "F = (T * 9/5) + 32\n",
    "print(F,\"is Temparature in Fahrenheit\")"
   ]
  },
  {
   "cell_type": "code",
   "execution_count": 17,
   "id": "44f8a429",
   "metadata": {},
   "outputs": [
    {
     "name": "stdout",
     "output_type": "stream",
     "text": [
      "hbvbvavaev babvabva\n",
      "19\n"
     ]
    }
   ],
   "source": [
    "#TOPIC: String Based Questions\n",
    "'''Q1). Write a Python program that takes a string as input and prints the length of\n",
    "the string.'''\n",
    "A = input()\n",
    "print(len(A))"
   ]
  },
  {
   "cell_type": "code",
   "execution_count": 22,
   "id": "8c05bb28",
   "metadata": {},
   "outputs": [
    {
     "name": "stdout",
     "output_type": "stream",
     "text": [
      "Enter string:Hii PWSkills \n",
      "Number of vowels are:\n",
      "3\n"
     ]
    }
   ],
   "source": [
    "'''2. Create a program that takes a sentence from the user and counts the number\n",
    "of vowels (a, e, i, o, u) in the string.'''\n",
    "\n",
    "string=input(\"Enter string:\")\n",
    "vowels=0\n",
    "for i in string:\n",
    "      if(i=='a' or i=='e' or i=='i' or i=='o' or i=='u' or i=='A' or i=='E' or i=='I' or i=='O' or i=='U'):\n",
    "            vowels=vowels+1\n",
    "print(\"Number of vowels are:\")\n",
    "print(vowels)"
   ]
  },
  {
   "cell_type": "code",
   "execution_count": 36,
   "id": "a54fdb29",
   "metadata": {},
   "outputs": [
    {
     "name": "stdout",
     "output_type": "stream",
     "text": [
      "hii jiii\n",
      "Original sentence is=> hii jiii\n",
      "iiij iih <=is the reveresed string\n"
     ]
    }
   ],
   "source": [
    "'''Q3)Given a string, reverse the order of characters using string slicing and print\n",
    "the reversed string.'''\n",
    "\n",
    "String = \"Hii pwskiills\"\n",
    "\n",
    "print(\"Original sentence is=>\",String)\n",
    "\n",
    "reveresed_string = String[::-1]\n",
    "print(reveresed_string,\"<=is the reveresed string\")\n",
    "\n",
    "\n"
   ]
  },
  {
   "cell_type": "code",
   "execution_count": 40,
   "id": "8cd0d109",
   "metadata": {},
   "outputs": [
    {
     "name": "stdout",
     "output_type": "stream",
     "text": [
      "malayalam\n",
      "string is=> malayalam\n",
      "yes string is palindrome\n"
     ]
    }
   ],
   "source": [
    "'''Q4)Write a program that takes a string as input and checks if it is a palindrome\n",
    "(reads the same forwards and backwards).'''\n",
    "\n",
    "String = input()\n",
    "print(\"string is=>\",String)\n",
    "\n",
    "reversed_string = String[::-1]\n",
    "\n",
    "if String == reversed_string:\n",
    " print(\"yes string is palindrome\")\n",
    "    \n",
    "else:     \n",
    " print(\"No the string is not Palindrome\")\n"
   ]
  },
  {
   "cell_type": "code",
   "execution_count": 41,
   "id": "44287610",
   "metadata": {},
   "outputs": [
    {
     "name": "stdout",
     "output_type": "stream",
     "text": [
      "Enter a string: hii pwskills \n",
      "Modified string without spaces: hiipwskills\n"
     ]
    }
   ],
   "source": [
    "'''Q)5. Create a program that takes a string as input and removes all the spaces from\n",
    "it. Print the modified string without spaces.'''\n",
    "\n",
    "def remove_spaces(string):\n",
    "    return \"\".join(string.split())\n",
    "\n",
    "input_string = input(\"Enter a string: \")\n",
    "modified_string = remove_spaces(input_string)\n",
    "print(\"Modified string without spaces:\", modified_string)"
   ]
  },
  {
   "cell_type": "code",
   "execution_count": null,
   "id": "eaec0bb5",
   "metadata": {},
   "outputs": [],
   "source": []
  }
 ],
 "metadata": {
  "kernelspec": {
   "display_name": "Python 3 (ipykernel)",
   "language": "python",
   "name": "python3"
  },
  "language_info": {
   "codemirror_mode": {
    "name": "ipython",
    "version": 3
   },
   "file_extension": ".py",
   "mimetype": "text/x-python",
   "name": "python",
   "nbconvert_exporter": "python",
   "pygments_lexer": "ipython3",
   "version": "3.11.5"
  }
 },
 "nbformat": 4,
 "nbformat_minor": 5
}
